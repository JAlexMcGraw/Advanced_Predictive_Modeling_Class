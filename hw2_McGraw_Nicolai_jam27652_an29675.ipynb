{
 "cells": [
  {
   "cell_type": "markdown",
   "metadata": {},
   "source": [
    "\n",
    "# <p style=\"text-align: center;\">MIS 382N: ADVANCED PREDICTIVE MODELING - MSBA</p>\n",
    "# <p style=\"text-align: center;\">Assignment 2</p>\n",
    "## <p style=\"text-align: center;\">Total points: 80 </p>\n",
    "## <p style=\"text-align: center;\">Due: September 30, submitted via Canvas by 11:59 pm</p>\n",
    "\n",
    "Your homework should be written in a **Jupyter notebook**. You may work in groups of two if you wish. Your partner needs to be from the same section. Only one student per team needs to submit the assignment on Canvas.  But be sure to include name and UTEID for both students.  Homework groups will be created and managed through Canvas, so please do not arbitrarily change your homework group. If you do change, let the TA know. \n",
    "\n",
    "Also, please make sure your code runs and the graphics (and anything else) are displayed in your notebook before submitting. (%matplotlib inline)\n",
    "\n",
    "### Name(s)\n",
    "1. Joseph (Alex) McGraw jam27652 \n",
    "2. Alexandre Nicolai an29675"
   ]
  },
  {
   "cell_type": "markdown",
   "metadata": {
    "colab_type": "text",
    "id": "W5ZpdgFLzMCK"
   },
   "source": [
    "# Question 1 (Understanding ElasticNet, 30 points)\n",
    "Although lots of past studies have been conducted on factors affecting life expectancy using demographic variables, income composition and mortality rates, it was found that the effect of immunization and human development index was not taken into account. Hence, this motivates us to resolve this factor by formulating a regression model based on mixed effects model and multiple linear regression while considering data from 2014 for all countries. Here, important immunization like Hepatitis B, Polio and Diphtheria will also be considered. \n",
    "\n",
    "This dataset was taken from https://www.kaggle.com/kumarajarshi/life-expectancy-who.\n",
    "\n",
    "**Please use Python 3.6+ for this assignment.**"
   ]
  },
  {
   "cell_type": "markdown",
   "metadata": {
    "colab_type": "text",
    "id": "As8wi1l8zY1f"
   },
   "source": [
    "First, we import packages and clean up the obtained dataset. We consider the `Life Expectancy` variable as the dependant variable whereas others are assumed to be independent variables."
   ]
  },
  {
   "cell_type": "code",
   "execution_count": 199,
   "metadata": {
    "colab": {
     "base_uri": "https://localhost:8080/",
     "height": 51
    },
    "colab_type": "code",
    "id": "FOU1ODXmfNlG",
    "outputId": "3e0dacba-1114-4244-be8f-3183dca50c2c"
   },
   "outputs": [],
   "source": [
    "import pandas as pd\n",
    "import numpy as np\n",
    "import matplotlib.pyplot as plt\n",
    "from tqdm import tqdm\n",
    "import seaborn as sns\n",
    "from sklearn.preprocessing import LabelEncoder\n",
    "from sklearn.model_selection import train_test_split\n",
    "from sklearn.linear_model import LinearRegression\n",
    "import warnings\n",
    "%matplotlib inline\n",
    "warnings.filterwarnings('ignore')"
   ]
  },
  {
   "cell_type": "code",
   "execution_count": 200,
   "metadata": {
    "colab": {
     "base_uri": "https://localhost:8080/",
     "height": 51
    },
    "colab_type": "code",
    "id": "ctY6Ogo8fX8-",
    "outputId": "a56bdbdb-3a5e-464c-d9b2-0611b4682b6d"
   },
   "outputs": [
    {
     "name": "stdout",
     "output_type": "stream",
     "text": [
      "(2938, 21)\n",
      "(131, 21)\n"
     ]
    }
   ],
   "source": [
    "df = pd.read_csv(\"life.csv\", index_col=0)\n",
    "print(df.shape)\n",
    "df = df.loc[df['Year']==2014, :]\n",
    "df = df.drop('Year', axis=1)\n",
    "df = pd.get_dummies(df, columns=['Status'])\n",
    "df = df.dropna()\n",
    "print(df.shape)"
   ]
  },
  {
   "cell_type": "code",
   "execution_count": 201,
   "metadata": {
    "colab": {
     "base_uri": "https://localhost:8080/",
     "height": 306
    },
    "colab_type": "code",
    "id": "MqH3uOrbf-WO",
    "outputId": "83be1413-c739-460f-e109-b45d039a9844"
   },
   "outputs": [
    {
     "data": {
      "text/html": [
       "<div>\n",
       "<style scoped>\n",
       "    .dataframe tbody tr th:only-of-type {\n",
       "        vertical-align: middle;\n",
       "    }\n",
       "\n",
       "    .dataframe tbody tr th {\n",
       "        vertical-align: top;\n",
       "    }\n",
       "\n",
       "    .dataframe thead th {\n",
       "        text-align: right;\n",
       "    }\n",
       "</style>\n",
       "<table border=\"1\" class=\"dataframe\">\n",
       "  <thead>\n",
       "    <tr style=\"text-align: right;\">\n",
       "      <th></th>\n",
       "      <th>Life expectancy</th>\n",
       "      <th>Adult Mortality</th>\n",
       "      <th>infant deaths</th>\n",
       "      <th>Alcohol</th>\n",
       "      <th>percentage expenditure</th>\n",
       "      <th>Hepatitis B</th>\n",
       "      <th>Measles</th>\n",
       "      <th>BMI</th>\n",
       "      <th>under-five deaths</th>\n",
       "      <th>Polio</th>\n",
       "      <th>...</th>\n",
       "      <th>Diphtheria</th>\n",
       "      <th>HIV/AIDS</th>\n",
       "      <th>GDP</th>\n",
       "      <th>Population</th>\n",
       "      <th>thinness  1-19 years</th>\n",
       "      <th>thinness 5-9 years</th>\n",
       "      <th>Income composition of resources</th>\n",
       "      <th>Schooling</th>\n",
       "      <th>Status_Developed</th>\n",
       "      <th>Status_Developing</th>\n",
       "    </tr>\n",
       "    <tr>\n",
       "      <th>Country</th>\n",
       "      <th></th>\n",
       "      <th></th>\n",
       "      <th></th>\n",
       "      <th></th>\n",
       "      <th></th>\n",
       "      <th></th>\n",
       "      <th></th>\n",
       "      <th></th>\n",
       "      <th></th>\n",
       "      <th></th>\n",
       "      <th></th>\n",
       "      <th></th>\n",
       "      <th></th>\n",
       "      <th></th>\n",
       "      <th></th>\n",
       "      <th></th>\n",
       "      <th></th>\n",
       "      <th></th>\n",
       "      <th></th>\n",
       "      <th></th>\n",
       "      <th></th>\n",
       "    </tr>\n",
       "  </thead>\n",
       "  <tbody>\n",
       "    <tr>\n",
       "      <th>Afghanistan</th>\n",
       "      <td>59.9</td>\n",
       "      <td>271.0</td>\n",
       "      <td>64</td>\n",
       "      <td>0.01</td>\n",
       "      <td>73.523582</td>\n",
       "      <td>62.0</td>\n",
       "      <td>492</td>\n",
       "      <td>18.6</td>\n",
       "      <td>86</td>\n",
       "      <td>58.0</td>\n",
       "      <td>...</td>\n",
       "      <td>62.0</td>\n",
       "      <td>0.1</td>\n",
       "      <td>612.696514</td>\n",
       "      <td>327582.0</td>\n",
       "      <td>17.5</td>\n",
       "      <td>17.5</td>\n",
       "      <td>0.476</td>\n",
       "      <td>10.0</td>\n",
       "      <td>0</td>\n",
       "      <td>1</td>\n",
       "    </tr>\n",
       "    <tr>\n",
       "      <th>Albania</th>\n",
       "      <td>77.5</td>\n",
       "      <td>8.0</td>\n",
       "      <td>0</td>\n",
       "      <td>4.51</td>\n",
       "      <td>428.749067</td>\n",
       "      <td>98.0</td>\n",
       "      <td>0</td>\n",
       "      <td>57.2</td>\n",
       "      <td>1</td>\n",
       "      <td>98.0</td>\n",
       "      <td>...</td>\n",
       "      <td>98.0</td>\n",
       "      <td>0.1</td>\n",
       "      <td>4575.763787</td>\n",
       "      <td>288914.0</td>\n",
       "      <td>1.2</td>\n",
       "      <td>1.3</td>\n",
       "      <td>0.761</td>\n",
       "      <td>14.2</td>\n",
       "      <td>0</td>\n",
       "      <td>1</td>\n",
       "    </tr>\n",
       "    <tr>\n",
       "      <th>Algeria</th>\n",
       "      <td>75.4</td>\n",
       "      <td>11.0</td>\n",
       "      <td>21</td>\n",
       "      <td>0.01</td>\n",
       "      <td>54.237318</td>\n",
       "      <td>95.0</td>\n",
       "      <td>0</td>\n",
       "      <td>58.4</td>\n",
       "      <td>24</td>\n",
       "      <td>95.0</td>\n",
       "      <td>...</td>\n",
       "      <td>95.0</td>\n",
       "      <td>0.1</td>\n",
       "      <td>547.851700</td>\n",
       "      <td>39113313.0</td>\n",
       "      <td>6.0</td>\n",
       "      <td>5.8</td>\n",
       "      <td>0.741</td>\n",
       "      <td>14.4</td>\n",
       "      <td>0</td>\n",
       "      <td>1</td>\n",
       "    </tr>\n",
       "    <tr>\n",
       "      <th>Angola</th>\n",
       "      <td>51.7</td>\n",
       "      <td>348.0</td>\n",
       "      <td>67</td>\n",
       "      <td>8.33</td>\n",
       "      <td>23.965612</td>\n",
       "      <td>64.0</td>\n",
       "      <td>11699</td>\n",
       "      <td>22.7</td>\n",
       "      <td>101</td>\n",
       "      <td>68.0</td>\n",
       "      <td>...</td>\n",
       "      <td>64.0</td>\n",
       "      <td>2.0</td>\n",
       "      <td>479.312240</td>\n",
       "      <td>2692466.0</td>\n",
       "      <td>8.5</td>\n",
       "      <td>8.3</td>\n",
       "      <td>0.527</td>\n",
       "      <td>11.4</td>\n",
       "      <td>0</td>\n",
       "      <td>1</td>\n",
       "    </tr>\n",
       "    <tr>\n",
       "      <th>Argentina</th>\n",
       "      <td>76.2</td>\n",
       "      <td>118.0</td>\n",
       "      <td>8</td>\n",
       "      <td>7.93</td>\n",
       "      <td>847.371746</td>\n",
       "      <td>94.0</td>\n",
       "      <td>1</td>\n",
       "      <td>62.2</td>\n",
       "      <td>9</td>\n",
       "      <td>92.0</td>\n",
       "      <td>...</td>\n",
       "      <td>94.0</td>\n",
       "      <td>0.1</td>\n",
       "      <td>12245.256450</td>\n",
       "      <td>42981515.0</td>\n",
       "      <td>1.0</td>\n",
       "      <td>0.9</td>\n",
       "      <td>0.825</td>\n",
       "      <td>17.3</td>\n",
       "      <td>0</td>\n",
       "      <td>1</td>\n",
       "    </tr>\n",
       "  </tbody>\n",
       "</table>\n",
       "<p>5 rows × 21 columns</p>\n",
       "</div>"
      ],
      "text/plain": [
       "             Life expectancy   Adult Mortality  infant deaths  Alcohol  \\\n",
       "Country                                                                  \n",
       "Afghanistan              59.9            271.0             64     0.01   \n",
       "Albania                  77.5              8.0              0     4.51   \n",
       "Algeria                  75.4             11.0             21     0.01   \n",
       "Angola                   51.7            348.0             67     8.33   \n",
       "Argentina                76.2            118.0              8     7.93   \n",
       "\n",
       "             percentage expenditure  Hepatitis B  Measles    BMI   \\\n",
       "Country                                                             \n",
       "Afghanistan               73.523582         62.0       492   18.6   \n",
       "Albania                  428.749067         98.0         0   57.2   \n",
       "Algeria                   54.237318         95.0         0   58.4   \n",
       "Angola                    23.965612         64.0     11699   22.7   \n",
       "Argentina                847.371746         94.0         1   62.2   \n",
       "\n",
       "             under-five deaths   Polio  ...  Diphtheria    HIV/AIDS  \\\n",
       "Country                                 ...                           \n",
       "Afghanistan                  86   58.0  ...         62.0        0.1   \n",
       "Albania                       1   98.0  ...         98.0        0.1   \n",
       "Algeria                      24   95.0  ...         95.0        0.1   \n",
       "Angola                      101   68.0  ...         64.0        2.0   \n",
       "Argentina                     9   92.0  ...         94.0        0.1   \n",
       "\n",
       "                      GDP  Population   thinness  1-19 years  \\\n",
       "Country                                                        \n",
       "Afghanistan    612.696514    327582.0                   17.5   \n",
       "Albania       4575.763787    288914.0                    1.2   \n",
       "Algeria        547.851700  39113313.0                    6.0   \n",
       "Angola         479.312240   2692466.0                    8.5   \n",
       "Argentina    12245.256450  42981515.0                    1.0   \n",
       "\n",
       "              thinness 5-9 years  Income composition of resources  Schooling  \\\n",
       "Country                                                                        \n",
       "Afghanistan                 17.5                            0.476       10.0   \n",
       "Albania                      1.3                            0.761       14.2   \n",
       "Algeria                      5.8                            0.741       14.4   \n",
       "Angola                       8.3                            0.527       11.4   \n",
       "Argentina                    0.9                            0.825       17.3   \n",
       "\n",
       "             Status_Developed  Status_Developing  \n",
       "Country                                           \n",
       "Afghanistan                 0                  1  \n",
       "Albania                     0                  1  \n",
       "Algeria                     0                  1  \n",
       "Angola                      0                  1  \n",
       "Argentina                   0                  1  \n",
       "\n",
       "[5 rows x 21 columns]"
      ]
     },
     "execution_count": 201,
     "metadata": {},
     "output_type": "execute_result"
    }
   ],
   "source": [
    "df.head()"
   ]
  },
  {
   "cell_type": "code",
   "execution_count": 202,
   "metadata": {},
   "outputs": [],
   "source": [
    "# Creating training and testing dataset\n",
    "y = df.iloc[:, 0]\n",
    "X = df.iloc[:, 1:]\n",
    "\n",
    "X_train, X_test, y_train, y_test = train_test_split(X, y, test_size=0.20, random_state = 42)"
   ]
  },
  {
   "cell_type": "markdown",
   "metadata": {
    "colab_type": "text",
    "id": "w8ngMwYK0uZ4"
   },
   "source": [
    "## Question 1.1 (5 points) \n",
    "Run Linear regression on the train dataset and print the $R^2$ values measured on (a) the training dataset and (b) the test dataset."
   ]
  },
  {
   "cell_type": "markdown",
   "metadata": {
    "colab_type": "text",
    "id": "uNI4UUH7-x00"
   },
   "source": [
    "## Answer 1.1"
   ]
  },
  {
   "cell_type": "code",
   "execution_count": 203,
   "metadata": {},
   "outputs": [
    {
     "name": "stdout",
     "output_type": "stream",
     "text": [
      "The train r2 score is 0.886982.\n",
      "The test r2 score is 0.835506.\n"
     ]
    }
   ],
   "source": [
    "from sklearn.metrics import r2_score\n",
    "\n",
    "linear = LinearRegression()\n",
    "lin_reg = linear.fit(X_train, y_train)\n",
    "train_pred = lin_reg.predict(X_train)\n",
    "test_pred = lin_reg.predict(X_test)\n",
    "\n",
    "train_r2 = r2_score(y_train, train_pred)\n",
    "test_r2 = r2_score(y_test, test_pred)\n",
    "\n",
    "print('The train r2 score is %f.' %train_r2)\n",
    "print('The test r2 score is %f.' %test_r2)"
   ]
  },
  {
   "cell_type": "markdown",
   "metadata": {
    "colab_type": "text",
    "id": "Ng9V_xUX2AZt"
   },
   "source": [
    "## Question 1.2 (8 points) \n",
    "Run linear regression using Lasso and determine the value of $\\alpha$ that results in best test set performance. Consider `alphas=10**np.linspace(1,-2,100)*0.5`. Display the best value of $\\alpha$ as well as the corresponsing $R^2$ score on test set. Use the following parameters in Lasso model. Finally, store the best model separately. Also, use the co-efficients obtained and select the [columns with non-zero weights](https://stackoverflow.com/questions/62323713/selecting-columns-of-dataframe-where-lasso-coefficient-is-nonzero) and use them to create `X_train_lasso` and `X_test_lasso`. Show how many non-zero columns are present.\n",
    "\n",
    "    copy_X=True\n",
    "    normalize=True # Normalizes data using StandardScaler()\n",
    "    random_state=42"
   ]
  },
  {
   "cell_type": "markdown",
   "metadata": {
    "colab_type": "text",
    "id": "x2ZOelRg-RQ3"
   },
   "source": [
    "## Answer 1.2"
   ]
  },
  {
   "cell_type": "code",
   "execution_count": 247,
   "metadata": {},
   "outputs": [
    {
     "name": "stdout",
     "output_type": "stream",
     "text": [
      "The best r2 value is 0.8524831845218706\n",
      "\n",
      "The best lambda value is 0.01424017934217901\n",
      "\n",
      "The number of non-zero columns is 11\n",
      "Best Coefficients\n",
      " Adult Mortality                    -0.017520\n",
      "infant deaths                      -0.000000\n",
      "Alcohol                             0.010278\n",
      "percentage expenditure              0.000000\n",
      "Hepatitis B                         0.001654\n",
      "Measles                            -0.000000\n",
      " BMI                                0.002666\n",
      "under-five deaths                  -0.000578\n",
      "Polio                              -0.000000\n",
      "Total expenditure                   0.260560\n",
      "Diphtheria                          0.008199\n",
      " HIV/AIDS                          -0.851350\n",
      "GDP                                -0.000000\n",
      "Population                          0.000000\n",
      " thinness  1-19 years              -0.000000\n",
      " thinness 5-9 years                -0.022436\n",
      "Income composition of resources    33.300582\n",
      "Schooling                           0.000000\n",
      "Status_Developed                    0.673582\n",
      "Status_Developing                  -0.000000\n",
      "dtype: float64\n"
     ]
    }
   ],
   "source": [
    "from sklearn.linear_model import Lasso\n",
    "alphas = 10**np.linspace(1,-2,100)*0.5\n",
    "lasso_df = pd.DataFrame(index=alphas, columns=['coefficients', 'r2'])\n",
    "\n",
    "for alpha in alphas:\n",
    "    LT = Lasso(alpha=alpha, copy_X=True, normalize=True, random_state=42).fit(X_train, y_train)\n",
    "    coefs = list(LT.coef_)\n",
    "    pred = LT.predict(X_test)\n",
    "    r2 = r2_score(y_test, pred)\n",
    "    lasso_df.loc[alpha] = [coefs, r2]\n",
    "\n",
    "lasso_df['r2'] = pd.to_numeric(lasso_df['r2'])\n",
    "r2_max = lasso_df['r2'].max()\n",
    "lambda_max = lasso_df['r2'].idxmax()\n",
    "\n",
    "print('The best r2 value is {}'.format(r2_max))\n",
    "print('\\nThe best lambda value is {}'.format(lambda_max))\n",
    "\n",
    "LT = Lasso(alpha=lambda_max, copy_X=True, normalize=True, random_state=42).fit(X_train, y_train)\n",
    "\n",
    "X_train_lasso = X_train.iloc[:, LT.coef_!=0]\n",
    "X_test_lasso = X_test.iloc[:, LT.coef_!=0]\n",
    "\n",
    "print('\\nThe number of non-zero columns is {}'.format(len(X_train_lasso.columns)))\n",
    "\n",
    "print('Best Coefficients\\n', pd.Series(LT.coef_, index=X.columns))"
   ]
  },
  {
   "cell_type": "markdown",
   "metadata": {
    "colab_type": "text",
    "id": "yZgK-IsT29fa"
   },
   "source": [
    "## Question 1.3 (6 points) \n",
    "Run linear regression using Ridge and determine the value of $\\alpha$ that results in best test set performance. Consider `alphas=10**np.linspace(1,-2,100)*0.5`. Display the best value of $\\alpha$ as well as the corresponsing $R^2$ score on test set. Use the following parameters in Lasso model.\n",
    "\n",
    "    copy_X=True\n",
    "    normalize=True # Normalizes data using StandardScaler()\n",
    "    random_state=42"
   ]
  },
  {
   "cell_type": "markdown",
   "metadata": {
    "colab_type": "text",
    "id": "syhZfjiI-PB3"
   },
   "source": [
    "## Answer 1.3"
   ]
  },
  {
   "cell_type": "code",
   "execution_count": 249,
   "metadata": {},
   "outputs": [
    {
     "name": "stdout",
     "output_type": "stream",
     "text": [
      "The best r2 value is 0.8339476898269709\n",
      "\n",
      "The best lambda value is 0.005\n"
     ]
    }
   ],
   "source": [
    "from sklearn.linear_model import Ridge\n",
    "alphas = 10**np.linspace(1,-2,100)*0.5\n",
    "ridge_df = pd.DataFrame(index=alphas, columns=['r2'])\n",
    "\n",
    "for alpha in alphas:\n",
    "    RD = Ridge(alpha=alpha, copy_X=True, normalize=True, random_state=42).fit(X_train, y_train)\n",
    "    pred = RD.predict(X_test)\n",
    "    r2 = r2_score(y_test, pred)\n",
    "    ridge_df.loc[alpha] = [r2]\n",
    "\n",
    "ridge_df['r2'] = pd.to_numeric(ridge_df['r2'])\n",
    "r2_max = ridge_df['r2'].max()\n",
    "lambda_max = ridge_df['r2'].idxmax()\n",
    "\n",
    "print('The best r2 value is {}'.format(r2_max))\n",
    "print('\\nThe best lambda value is {}'.format(lambda_max))"
   ]
  },
  {
   "cell_type": "markdown",
   "metadata": {
    "colab_type": "text",
    "id": "Y-6cOe7V7DCz"
   },
   "source": [
    "## Question 1.4  (8 points) \n",
    "Run [ElasticNet](https://scikit-learn.org/stable/modules/generated/sklearn.linear_model.ElasticNet.html) [(Video Reference)](https://youtu.be/1dKRdX9bfIo) on the `X_train_lasso` dataset by using all possible values from the below mentioned parameter set:\n",
    "\n",
    "    l1_ratios = np.arange(0, 1.01, 0.01)  # 101 elements\n",
    "    alphas = 10**np.linspace(1, -2, 100)*0.5 # 100 elements\n",
    "    normalize = True\n",
    "    random_state = 42\n",
    "\n",
    "\n",
    "Store the $R^2$ score obtained from `X_test_lasso` set for each combination in an array with 101 rows and 100 columns. e.g.\n",
    "\n",
    "    arr[i][j] = curr_r2_score # obtained using alphas[i] and l1_ratios[j]\n",
    "\n",
    "where `i` is the `ith` element from `l1_ratio` and `j` is the `jth` element from `alphas`. Print the best $R^2$ score obtained using test set and its corresponding `alpha` and `l1 ratio`."
   ]
  },
  {
   "cell_type": "code",
   "execution_count": 250,
   "metadata": {
    "colab": {},
    "colab_type": "code",
    "id": "ZZiKAbk4jGXu"
   },
   "outputs": [],
   "source": [
    "from sklearn.linear_model import ElasticNet, ElasticNetCV\n",
    "\n",
    "arr = np.zeros((101, 100)) # Create 101x100 array\n",
    "l1_ratios = np.arange(0, 1.01, 0.01)  # 101 elements\n",
    "alphas = 10**np.linspace(1, -2, 100)*0.5 # 100 elements\n",
    "\n",
    "i_count = -1\n",
    "for i in l1_ratios:\n",
    "    i_count += 1\n",
    "    j_count = 0\n",
    "    for j in alphas:\n",
    "        net = ElasticNet(alpha=j, l1_ratio=i, normalize=True, random_state=42)\\\n",
    "        .fit(X_train_lasso, y_train)\n",
    "        test_pred = net.predict(X_test_lasso)\n",
    "        net_r2 = r2_score(y_test, test_pred)\n",
    "        arr[i_count][j_count] = net_r2\n",
    "        j_count += 1"
   ]
  },
  {
   "cell_type": "code",
   "execution_count": 251,
   "metadata": {},
   "outputs": [],
   "source": [
    "netCV = ElasticNetCV(alphas=alphas, l1_ratio=l1_ratios, copy_X=True, normalize=True, random_state=42)\\\n",
    "        .fit(X_train_lasso, y_train)\n",
    "test_pred = netCV.predict(X_test_lasso)\n",
    "netCV_r2 = r2_score(y_test, test_pred)\n"
   ]
  },
  {
   "cell_type": "markdown",
   "metadata": {
    "colab_type": "text",
    "id": "GFwZrCRViynq"
   },
   "source": [
    "Note that by varying the `l1_ratio`, you are controlling the ratio of Lasso and Ridge regularization that is present in the model. When `l1_ratio = 1`, it means that the model uses Lasso regularization only whereas when `l1_ratio = 0`, it means that the model uses Ridge regularization only. You can find the formula for the loss function [here](https://scikit-learn.org/stable/modules/generated/sklearn.linear_model.ElasticNet.html)."
   ]
  },
  {
   "cell_type": "markdown",
   "metadata": {
    "colab_type": "text",
    "id": "r5ksUkeL-MbL"
   },
   "source": [
    "## Answer 1.4"
   ]
  },
  {
   "cell_type": "code",
   "execution_count": 252,
   "metadata": {},
   "outputs": [
    {
     "name": "stdout",
     "output_type": "stream",
     "text": [
      "The best r2 score obtained through Elastic Net is 0.8473321777604016\n",
      "The alpha value for this r2 is 0.03527401155359323\n",
      "The l1 ratio value for this r2 is 1.0\n"
     ]
    }
   ],
   "source": [
    "print('The best r2 score obtained through Elastic Net is {}'.format(netCV_r2))\n",
    "print('The alpha value for this r2 is {}'.format(netCV.alpha_))\n",
    "print('The l1 ratio value for this r2 is {}'.format(netCV.l1_ratio_))"
   ]
  },
  {
   "cell_type": "markdown",
   "metadata": {
    "colab_type": "text",
    "id": "D6eM7mR189cP"
   },
   "source": [
    "## Question 1.5 (3 points) \n",
    "Call `plot_heatmap()` using the 101x100 array from the previous question. What does this heatmap represent? Interpret the heatmap."
   ]
  },
  {
   "cell_type": "code",
   "execution_count": 159,
   "metadata": {
    "colab": {},
    "colab_type": "code",
    "id": "2SVYnItgCCAR"
   },
   "outputs": [],
   "source": [
    "def rescale(val, in_min, in_max, out_min, out_max):\n",
    "    return out_min + (val - in_min) * ((out_max - out_min) / (in_max - in_min))\n",
    "\n",
    "def format_y(value, tick_number):\n",
    "    return f'{value/100.:0.2f}'\n",
    "\n",
    "def format_x(value, tick_number):\n",
    "    return f'{rescale(value, 0., 100., 0.05, 5.):0.2f}'\n",
    "\n",
    "def plot_heatmap(arr):\n",
    "    ax = sns.heatmap(arr)\n",
    "    ax.set_ylabel(\"L1 Ratio\")\n",
    "    ax.set_xlabel(\"alpha\")\n",
    "    ax.invert_yaxis()\n",
    "    ax.xaxis.set_major_formatter(plt.FuncFormatter(format_x))\n",
    "    ax.yaxis.set_major_formatter(plt.FuncFormatter(format_y))"
   ]
  },
  {
   "cell_type": "markdown",
   "metadata": {
    "colab_type": "text",
    "id": "q5QVYStf9zuA"
   },
   "source": [
    "## Answer 1.5"
   ]
  },
  {
   "cell_type": "code",
   "execution_count": 196,
   "metadata": {},
   "outputs": [
    {
     "data": {
      "image/png": "[encoded data removed]",
      "text/plain": [
       "<Figure size 432x288 with 2 Axes>"
      ]
     },
     "metadata": {
      "needs_background": "light"
     },
     "output_type": "display_data"
    }
   ],
   "source": [
    "arr = np.fliplr(arr)\n",
    "plot_heatmap(arr)"
   ]
  },
  {
   "cell_type": "markdown",
   "metadata": {},
   "source": [
    "This heat map represents the r^2 values with the given alpha and L1 ratio values. The map shows that the best r^2 values given by the elastic net are generated when L1 is 1, which means a lasso regression, and also when alpha is closest to 5. This graph also shows that alpha is more deterministic of r^2 values than the L1 values, because when y=0, the x axis does change colors as it increases, but when x=0, the y axis is continuously black."
   ]
  },
  {
   "cell_type": "markdown",
   "metadata": {
    "colab_type": "text",
    "id": "fXL1_aVfCktf"
   },
   "source": [
    "# Question 2 (5 points)\n",
    "Suppose you learn a ridge regression based on some of the independent variables available to you, and including a few interaction terms as well. Your result is disappointing, and you believe that the model is suffering from either too much bias or too much variance. Describe briefly how you will test which alternative is more likely to be true. (there is no extra data that you can use, so “get more data” is not an option)."
   ]
  },
  {
   "cell_type": "markdown",
   "metadata": {},
   "source": [
    "I would check to see the difference between the training set R^2 score and the test set R^2 score. If it scored quite high on the training set, but very low on the test set, it shows that the model is overfitting. This is a sign of too much variance. If the training and test set R^2 scores are both quite low, then this shows that it is underfitting, and is a sign of too much bias.\n",
    "\n",
    "Another way is that I would do a cross validation on the test set changing the number of k-fold to see which one is closer to the MSE obtained.\n",
    "If it is for a low value of lambda, it means that the model is to complex and therefore we are in the situation of low biased and high variance (overfitting). If the approximation of my MSE is closer when lambda high, that means that we are suffering from a high bias (underfitting)."
   ]
  },
  {
   "cell_type": "markdown",
   "metadata": {},
   "source": [
    "## Answer 2"
   ]
  },
  {
   "cell_type": "markdown",
   "metadata": {},
   "source": [
    "# Question 3 Bias-Variance (20 pts): \n",
    "\n",
    "We want to build a model that can predict y for unknown inputs x.(15 pts)\n",
    "\n",
    "(a) (5 pts) Fit a linear model to the training data, and report mean squared error on the test data. Plot the train and test points on the same plot, clearly denoting the training and testing points. On the same figure, plot the predictions of the linear model using x_all. All the plots must be in the same figure and be clearly labeled.\n",
    "\n",
    "\n",
    "(b) (10 pts) Fit polynomial models of degrees 2, 3, 4 and 12 to the training data, Report mean squared error (on both train and test sets) for all the models. Plot the data (train and test points) as before.  On the same figure, plot the predictions of the polynomial models using x_all. All the plots must be in the same figure and be clearly labeled.\n",
    "\n",
    "\n",
    "(c) (5 pts) Which model performed the best? Explain.\n"
   ]
  },
  {
   "cell_type": "markdown",
   "metadata": {},
   "source": [
    "* Use the below code to load the data from the file 'ps01.data'. It is organized as a dictionary, of train and test data."
   ]
  },
  {
   "cell_type": "code",
   "execution_count": 186,
   "metadata": {},
   "outputs": [],
   "source": [
    "from sklearn.linear_model import LinearRegression\n",
    "from sklearn.metrics import mean_squared_error,mean_absolute_error\n",
    "import matplotlib.pyplot as plt\n",
    "import numpy as np\n",
    "%matplotlib inline\n",
    "\n",
    "x_all = np.linspace(-2,5,101).reshape(-1,1)\n",
    "all_files = np.load(\"q3_data.npz\")\n",
    "x_train, y_train, x_test, y_test = all_files['arr_0'], all_files['arr_1'], all_files['arr_2'], all_files['arr_3']"
   ]
  },
  {
   "cell_type": "markdown",
   "metadata": {},
   "source": [
    "### Answer"
   ]
  },
  {
   "cell_type": "markdown",
   "metadata": {},
   "source": [
    "#### (a) (5 pts) Fit a linear model to the training data, and report mean squared error on the test data. Plot the train and test points on the same plot, clearly denoting the training and testing points. On the same figure, plot the predictions of the linear model using x_all. All the plots must be in the same figure and be clearly labeled."
   ]
  },
  {
   "cell_type": "code",
   "execution_count": 187,
   "metadata": {},
   "outputs": [
    {
     "name": "stdout",
     "output_type": "stream",
     "text": [
      "The prediction on the test set MSE is 4.739110717634691\n"
     ]
    },
    {
     "data": {
      "image/png": "[encoded data removed]",
      "text/plain": [
       "<Figure size 432x288 with 1 Axes>"
      ]
     },
     "metadata": {
      "needs_background": "light"
     },
     "output_type": "display_data"
    }
   ],
   "source": [
    "lin = LinearRegression().fit(x_train, y_train)\n",
    "lin_pred = lin.predict(x_all)\n",
    "#MSE = mean_squared_error(y_test, lin_pred)\n",
    "\n",
    "fig, ax1 = plt.subplots()\n",
    "\n",
    "ax1.scatter(x_train, y_train, c='b', label='train')\n",
    "ax1.scatter(x_test, y_test, c='r', marker='*', label='test')\n",
    "ax1.plot(x_all, lin_pred, c='g', label='x_all')\n",
    "\n",
    "plt.legend(loc='upper left')\n",
    "\n",
    "lin_pred = lin.predict(x_test)\n",
    "MSE = mean_squared_error(y_test, lin_pred)\n",
    "print('The prediction on the test set MSE is {}'.format(MSE))"
   ]
  },
  {
   "cell_type": "markdown",
   "metadata": {},
   "source": [
    "### (b) (10 pts) Fit polynomial models of degrees 2, 3, 4 and 12 to the training data, Report mean squared error (on both train and test sets) for all the models. Plot the data (train and test points) as before. On the same figure, plot the predictions of the polynomial models using x_all. All the plots must be in the same figure and be clearly labeled."
   ]
  },
  {
   "cell_type": "code",
   "execution_count": 193,
   "metadata": {},
   "outputs": [
    {
     "name": "stdout",
     "output_type": "stream",
     "text": [
      "The degree 2 polynomial model produced a train MSE of 3.2414218538144657 and a test MSE of 3.1186880128035512\n",
      "\n",
      "The degree 3 polynomial model produced a train MSE of 1.4201223351315237 and a test MSE of 1.6698703639509385\n",
      "\n",
      "The degree 4 polynomial model produced a train MSE of 0.37459501477803137 and a test MSE of 0.27939743902349146\n",
      "\n",
      "The degree 12 polynomial model produced a train MSE of 0.329748479226362 and a test MSE of 0.4022876196256975\n"
     ]
    },
    {
     "data": {
      "text/plain": [
       "<matplotlib.legend.Legend at 0x7fc2a8c45a90>"
      ]
     },
     "execution_count": 193,
     "metadata": {},
     "output_type": "execute_result"
    },
    {
     "data": {
      "image/png": "[encoded data removed]",
      "text/plain": [
       "<Figure size 432x288 with 1 Axes>"
      ]
     },
     "metadata": {
      "needs_background": "light"
     },
     "output_type": "display_data"
    }
   ],
   "source": [
    "from sklearn.preprocessing import PolynomialFeatures\n",
    "from sklearn.pipeline import make_pipeline\n",
    "\n",
    "polyreg_2 = make_pipeline(PolynomialFeatures(2), LinearRegression()).fit(x_train, y_train)\n",
    "polyreg_3 = make_pipeline(PolynomialFeatures(3), LinearRegression()).fit(x_train, y_train)\n",
    "polyreg_4 = make_pipeline(PolynomialFeatures(4), LinearRegression()).fit(x_train, y_train)\n",
    "polyreg_12 = make_pipeline(PolynomialFeatures(12), LinearRegression()).fit(x_train, y_train)\n",
    "\n",
    "pred_tr_2 = polyreg_2.predict(x_train)\n",
    "pred_te_2 = polyreg_2.predict(x_test)\n",
    "all_pred_2 = polyreg_2.predict(x_all)\n",
    "MSE_tr_2 = mean_squared_error(y_train, pred_tr_2)\n",
    "MSE_te_2 = mean_squared_error(y_test, pred_te_2)\n",
    "\n",
    "pred_tr_3 = polyreg_3.predict(x_train)\n",
    "pred_te_3 = polyreg_3.predict(x_test)\n",
    "all_pred_3 = polyreg_3.predict(x_all)\n",
    "MSE_tr_3 = mean_squared_error(y_train, pred_tr_3)\n",
    "MSE_te_3 = mean_squared_error(y_test, pred_te_3)\n",
    "\n",
    "pred_tr_4 = polyreg_4.predict(x_train)\n",
    "pred_te_4 = polyreg_4.predict(x_test)\n",
    "all_pred_4 = polyreg_4.predict(x_all)\n",
    "MSE_tr_4 = mean_squared_error(y_train, pred_tr_4)\n",
    "MSE_te_4 = mean_squared_error(y_test, pred_te_4)\n",
    "\n",
    "pred_tr_12 = polyreg_12.predict(x_train)\n",
    "pred_te_12 = polyreg_12.predict(x_test)\n",
    "all_pred_12 = polyreg_12.predict(x_all)\n",
    "MSE_tr_12 = mean_squared_error(y_train, pred_tr_12)\n",
    "MSE_te_12 = mean_squared_error(y_test, pred_te_12)\n",
    "\n",
    "print('The degree 2 polynomial model produced a train MSE of {} and a test MSE of {}'\\\n",
    "     .format(MSE_tr_2, MSE_te_2))\n",
    "print('\\nThe degree 3 polynomial model produced a train MSE of {} and a test MSE of {}'\\\n",
    "     .format(MSE_tr_3, MSE_te_3))\n",
    "print('\\nThe degree 4 polynomial model produced a train MSE of {} and a test MSE of {}'\\\n",
    "     .format(MSE_tr_4, MSE_te_4))\n",
    "print('\\nThe degree 12 polynomial model produced a train MSE of {} and a test MSE of {}'\\\n",
    "     .format(MSE_tr_12, MSE_te_12))\n",
    "\n",
    "fig, ax1 = plt.subplots()\n",
    "\n",
    "ax1.scatter(x_train, y_train, c='b', label='train')\n",
    "ax1.scatter(x_test, y_test, c='r', label='test')\n",
    "ax1.plot(x_all, all_pred_2, c='g', label='degree: 2', linewidth=2)\n",
    "ax1.plot(x_all, all_pred_3, c='c', label='degree: 3', linewidth=2)\n",
    "ax1.plot(x_all, all_pred_4, c='m', label='degree: 4', linewidth=2)\n",
    "ax1.plot(x_all, all_pred_12, c='y', label='degree: 12', linewidth=2)\n",
    "plt.legend(loc='best')"
   ]
  },
  {
   "cell_type": "markdown",
   "metadata": {},
   "source": [
    "### (c) (5 pts) Which model performed the best? Explain."
   ]
  },
  {
   "cell_type": "markdown",
   "metadata": {},
   "source": [
    "The 4th degree polynomial model. It has the lowest Test MSE at 0.279 ."
   ]
  },
  {
   "cell_type": "markdown",
   "metadata": {},
   "source": [
    "# Question 4 - Stochastic Gradient Descent (25 pts)"
   ]
  },
  {
   "cell_type": "markdown",
   "metadata": {},
   "source": [
    "1. (5pts) Using stochastic gradient descent, derive the coefficent updates for all 4 coefficients of the model: $$ y = w_0 + w_1x_1 + w_2x_1x_2 + w_3e^{-x_1} $$ Hint: start from the cost function (Assume sum of squared error). If you write the math by hand, include the image in your notebook and upload the image in the submission.\n",
    "\n",
    "\n",
    "2. (20pts) Write Python code for an SGD solution to the non-linear model$$ y = w_0 + w_1x_1 + w_2x_1x_2 + w_3e^{-x_1} $$  Try to format similarly to scikit-learn's models. The template of the class is given. The init function of the class takes as input the learning_rate, regularization_constant and number of epochs. The fit method must take as input X,y. The _predict_ method takes an X value (optionally, an array of values). Use your new gradient descent regression to predict the data given in 'samples.csv', for 15 epochs, using learning rates: [0, .0001, .001, .01, 0.1, 1, 10, 100] and regularization (ridge regression) constants: [0,10,100] . Plot MSE and the $w$ parameters as a function of epoch (for 15 epochs) for the best 2 combinations of learning_rate and regularization for SGD. (2pts) Report the MSE at the end of 15 epochs for the two best combinations.\n"
   ]
  },
  {
   "cell_type": "code",
   "execution_count": 5,
   "metadata": {},
   "outputs": [],
   "source": [
    "import random\n",
    "import numpy as np\n",
    "import matplotlib.pyplot as plt\n",
    "import pandas as pd\n",
    "\n",
    "class Regression:\n",
    "    \n",
    "    def __init__(self, learning_rate, regularization, n_epoch):\n",
    "        self.learning_rate = learning_rate\n",
    "        self.n_epoch = n_epoch\n",
    "        self.regularization = regularization\n",
    "        self.coef = np.zeros(5) \n",
    "    def sgd(self, gradient):\n",
    "        self.coef = self.coef - (self.learning_rate * gradient)\n",
    "    \n",
    "        \n",
    "    def fit(self, X, y, update_rule='sgd', plot=False):\n",
    "        mse = []\n",
    "        coefs = []\n",
    "        self.cache = np.zeros(self.coef.shape)\n",
    "        self.v = np.zeros(self.coef.shape)\n",
    "        self.decay_rate = 0.9\n",
    "        X = self.get_features(X)\n",
    "        for epoch in range(self.n_epoch):\n",
    "            for i in range(X.shape[0]):\n",
    "                 # Compute error\n",
    "                X_i = X[i,:]\n",
    "                e_i = self.linearPredict(X_i) - y[i] \n",
    "                # Compute gradients\n",
    "                gradient = (e_i * X_i) + (self.regularization * self.coef)\n",
    "                # Update weights\n",
    "                self.sgd(gradient)\n",
    "            coefs.append(self.coef)\n",
    "            residuals = y - self.linearPredict(X)         \n",
    "            mse.append(np.mean(residuals**2))\n",
    "        self.lowest_mse = mse[-1]\n",
    "        if plot == True:\n",
    "            plt.figure()\n",
    "            plt.plot(range(self.n_epoch),mse)\n",
    "            plt.xlabel('epoch')\n",
    "            plt.ylabel('MSE')\n",
    "            plt.figure()\n",
    "            coefs = np.array(coefs)\n",
    "            plt.plot(range(self.n_epoch),coefs[:,0],label='w0')\n",
    "            plt.plot(range(self.n_epoch),coefs[:,1],label='w1')\n",
    "            plt.plot(range(self.n_epoch),coefs[:,2],label='w2')\n",
    "            plt.plot(range(self.n_epoch),coefs[:,3],label='w3')\n",
    "            plt.legend()\n",
    "            plt.xlabel('epoch')\n",
    "            plt.ylabel('parameter value')\n",
    "\n",
    "    def get_features(self, X):\n",
    "        '''\n",
    "        this output of this function can be used to compute the gradient in `fit`\n",
    "        '''\n",
    "        x = np.zeros((X.shape[0], 5))\n",
    "        x[:,0] = 1\n",
    "        x[:,1] = X[:,0]\n",
    "        x[:,2] = X[:,0]*X[:,1]\n",
    "        x[:,3] = np.exp(-X[:,0])\n",
    "        \n",
    "        return x\n",
    "        \n",
    "    def linearPredict(self, X):  \n",
    "        return X.dot(self.coef)\n",
    "         \n",
    "        "
   ]
  },
  {
   "cell_type": "code",
   "execution_count": 6,
   "metadata": {},
   "outputs": [],
   "source": [
    "data = pd.read_csv('q4_samples.csv')\n",
    "X = np.array([data['x1'].values, data['x2'].values]).T\n",
    "y = data['y'].values\n",
    "n_epochs = 15\n",
    "learning_rate = [0.0001, 0.001, 0.01, 0.1, 1, 10, 100]\n",
    "regularization = [0, 10, 100]"
   ]
  },
  {
   "cell_type": "markdown",
   "metadata": {},
   "source": [
    "## Answer "
   ]
  },
  {
   "cell_type": "markdown",
   "metadata": {},
   "source": [
    "### 1."
   ]
  },
  {
   "cell_type": "markdown",
   "metadata": {},
   "source": [
    "$$ \\hat y = w_{0} + w_{1}x_{1} + w_{2}x_{1}x_{2} + w_{3}e^{-x_{1}}$$\n",
    "We want to minimize the loss function below:\n",
    "$$ L = ( \\hat y - y)^2 $$\n",
    "To derive the coefficient updates, we need the partial derivatives below:\n",
    "$$\\frac{\\partial L}{\\partial \\hat y}= 2 * (\\hat y - y)$$\n",
    "$$\\frac{\\partial \\hat y}{\\partial \\hat w_{0}} = 1$$\n",
    "$$\\frac{\\partial \\hat y}{\\partial \\hat w_{1}} = x_{1}$$\n",
    "$$\\frac{\\partial \\hat y}{\\partial \\hat w_{2}} = x_{1} * x_{2}$$\n",
    "$$\\frac{\\partial \\hat y}{\\partial \\hat w_{3}} = e^{-x_{1}}$$\n",
    "So we can derive the coefficient updates:\n",
    "$$ w_{0}' = w_{0} - \\eta * (\\frac{\\partial L}{\\partial b})$$\n",
    "$$ w_{0}' = w_{0} - \\eta * (\\frac{\\partial L}{\\partial \\hat y} * \\frac{\\partial \\hat y}{\\partial b}) $$\n",
    "$$ w_{0}' = w_{0} - \\eta * [2 * (\\hat y - y)] $$\n",
    "$$ w_{1}' = w_{1} - \\eta * (\\frac{\\partial L}{\\partial w_{1}})$$\n",
    "$$ w_{1}' = w_{1} - \\eta * (\\frac{\\partial L}{\\partial \\hat y} * \\frac{\\partial \\hat y}{\\partial w_{1}})$$\n",
    "$$ w_{1}' = w_{1} - \\eta * (2 * (\\hat y - y) * x_{1})$$\n",
    "$$ w_{2}' = w_{2} - \\eta * (\\frac{\\partial L}{\\partial w_{2}})$$\n",
    "$$ w_{2}' = w_{2} - \\eta * (\\frac{\\partial L}{\\partial \\hat y} * \\frac{\\partial \\hat y}{\\partial w_{2}})$$\n",
    "$$ w_{2}' = w_{2} - \\eta * (2 * (\\hat y - y) * x_{1} * x_{2})$$\n",
    "$$ w_{3}' = w_{3} - \\eta * (\\frac{\\partial L}{\\partial w_{3}})$$\n",
    "$$ w_{3}' = w_{3} - \\eta * (\\frac{\\partial L}{\\partial \\hat y} * \\frac{\\partial \\hat y}{\\partial w_{3}})$$\n",
    "$$ w_{3}' = w_{3} - \\eta * (2 * (\\hat y - y) * e^{-x_{1}})$$"
   ]
  },
  {
   "cell_type": "markdown",
   "metadata": {},
   "source": [
    "### 2."
   ]
  },
  {
   "cell_type": "markdown",
   "metadata": {},
   "source": [
    "### Using SGD\n"
   ]
  },
  {
   "cell_type": "code",
   "execution_count": 7,
   "metadata": {},
   "outputs": [
    {
     "name": "stderr",
     "output_type": "stream",
     "text": [
      "/Users/alexmcgraw/anaconda3/lib/python3.7/site-packages/ipykernel_launcher.py:30: RuntimeWarning: overflow encountered in multiply\n",
      "/Users/alexmcgraw/anaconda3/lib/python3.7/site-packages/ipykernel_launcher.py:30: RuntimeWarning: invalid value encountered in multiply\n",
      "/Users/alexmcgraw/anaconda3/lib/python3.7/site-packages/ipykernel_launcher.py:14: RuntimeWarning: invalid value encountered in subtract\n",
      "  \n",
      "/Users/alexmcgraw/anaconda3/lib/python3.7/site-packages/ipykernel_launcher.py:35: RuntimeWarning: overflow encountered in square\n",
      "/Users/alexmcgraw/anaconda3/lib/python3.7/site-packages/ipykernel_launcher.py:14: RuntimeWarning: overflow encountered in multiply\n",
      "  \n"
     ]
    }
   ],
   "source": [
    "\n",
    "Lr_reg = []\n",
    "\n",
    "\n",
    "for i in range(len(learning_rate)):\n",
    "    for j in range(len(regularization)):\n",
    "        Lr_reg.append((learning_rate[i], regularization[j]))\n",
    "\n",
    "Lr_reg = pd.DataFrame(Lr_reg)\n",
    "\n",
    "scores = []\n",
    "for i in range(len(Lr_reg)):\n",
    "    model = Regression(Lr_reg.iloc[i][0], Lr_reg.iloc[i][1], n_epochs)\n",
    "    model.fit(X,y)\n",
    "    scores.append(model.lowest_mse)\n",
    "\n",
    "Lr_reg['scores'] = scores\n",
    "Lr_reg = Lr_reg.rename(columns = {0:'learning_rate', 1:'regularization',\n",
    "                        'scores':'scores'})\n",
    "\n",
    "\n"
   ]
  },
  {
   "cell_type": "code",
   "execution_count": 8,
   "metadata": {},
   "outputs": [
    {
     "name": "stdout",
     "output_type": "stream",
     "text": [
      "The MSE for the best model is 0.027391087575201017\n",
      "The MSE for the second best model is 0.030495991520073523\n"
     ]
    },
    {
     "data": {
      "image/png": "[encoded data removed]",
      "text/plain": [
       "<Figure size 432x288 with 1 Axes>"
      ]
     },
     "metadata": {
      "needs_background": "light"
     },
     "output_type": "display_data"
    },
    {
     "data": {
      "image/png": "[encoded data removed]",
      "text/plain": [
       "<Figure size 432x288 with 1 Axes>"
      ]
     },
     "metadata": {
      "needs_background": "light"
     },
     "output_type": "display_data"
    },
    {
     "data": {
      "image/png": "[encoded data removed]",
      "text/plain": [
       "<Figure size 432x288 with 1 Axes>"
      ]
     },
     "metadata": {
      "needs_background": "light"
     },
     "output_type": "display_data"
    },
    {
     "data": {
      "image/png": "[encoded data removed]",
      "text/plain": [
       "<Figure size 432x288 with 1 Axes>"
      ]
     },
     "metadata": {
      "needs_background": "light"
     },
     "output_type": "display_data"
    }
   ],
   "source": [
    "\n",
    "Lr_reg_sort = Lr_reg.sort_values(by ='scores')\n",
    "Lr_reg_sort = Lr_reg_sort.reset_index().drop(columns=['index'])\n",
    "\n",
    "model = Regression(Lr_reg_sort['learning_rate'][0],\n",
    "                  Lr_reg_sort['regularization'][0],\n",
    "                  n_epochs)\n",
    "model.fit(X, y, plot=True)\n",
    "\n",
    "model1 = Regression(Lr_reg_sort['learning_rate'][1],\n",
    "                  Lr_reg_sort['regularization'][1],\n",
    "                  n_epochs)\n",
    "model1.fit(X, y, plot=True)\n",
    "\n",
    "print('The MSE for the best model is {}'.format(Lr_reg_sort['scores'][0]))\n",
    "print('The MSE for the second best model is {}'.format(Lr_reg_sort['scores'][1]))"
   ]
  },
  {
   "cell_type": "code",
   "execution_count": 9,
   "metadata": {},
   "outputs": [
    {
     "name": "stdout",
     "output_type": "stream",
     "text": [
      "(0.0001, 0)\n",
      "(100, 0)\n",
      "[0.027391087575201017, 0.027391087575201017]\n",
      "[ 0 18]\n",
      "(0.001, 0)\n",
      "(0.0001, 0)\n"
     ]
    },
    {
     "data": {
      "image/png": "[encoded data removed]",
      "text/plain": [
       "<Figure size 432x288 with 1 Axes>"
      ]
     },
     "metadata": {
      "needs_background": "light"
     },
     "output_type": "display_data"
    },
    {
     "data": {
      "image/png": "[encoded data removed]",
      "text/plain": [
       "<Figure size 432x288 with 1 Axes>"
      ]
     },
     "metadata": {
      "needs_background": "light"
     },
     "output_type": "display_data"
    },
    {
     "data": {
      "image/png": "[encoded data removed]",
      "text/plain": [
       "<Figure size 432x288 with 1 Axes>"
      ]
     },
     "metadata": {
      "needs_background": "light"
     },
     "output_type": "display_data"
    },
    {
     "data": {
      "image/png": "[encoded data removed]",
      "text/plain": [
       "<Figure size 432x288 with 1 Axes>"
      ]
     },
     "metadata": {
      "needs_background": "light"
     },
     "output_type": "display_data"
    }
   ],
   "source": [
    "Lr_reg = []\n",
    "for i in range(0,len(learning_rate)):\n",
    "    for j in range(0,len(regularization)):\n",
    "        Lr_reg.append((learning_rate[i], regularization[j]))\n",
    "scores = []\n",
    "for k in range(0,len(Lr_reg)):\n",
    "    model = Regression(Lr_reg[i][0], Lr_reg[i][1], n_epochs)\n",
    "    model.fit(X,y)\n",
    "    scores.append(model.lowest_mse)\n",
    "\n",
    "\n",
    "\n",
    "\n",
    "\n",
    "\n",
    "Lr_reg_1 = np.argsort(np.array(scores))[:2]\n",
    "print(Lr_reg[Lr_reg_1[0]])\n",
    "print(Lr_reg[Lr_reg_1[1]])\n",
    "scores = []\n",
    "for k in Lr_reg_1:\n",
    "    sgd = Regression(Lr_reg[i][0], Lr_reg[i][1],n_epochs)\n",
    "    sgd.fit(X,y,plot=True)\n",
    "    scores.append(sgd.lowest_mse)\n",
    "print(scores)\n",
    "reg = Regression(.0001, 100, n_epochs)\n",
    "print(Lr_reg_1)\n",
    "print(Lr_reg[3])\n",
    "print(Lr_reg[0])"
   ]
  },
  {
   "cell_type": "code",
   "execution_count": null,
   "metadata": {},
   "outputs": [],
   "source": []
  }
 ],
 "metadata": {
  "kernelspec": {
   "display_name": "Python 3",
   "language": "python",
   "name": "python3"
  },
  "language_info": {
   "codemirror_mode": {
    "name": "ipython",
    "version": 3
   },
   "file_extension": ".py",
   "mimetype": "text/x-python",
   "name": "python",
   "nbconvert_exporter": "python",
   "pygments_lexer": "ipython3",
   "version": "3.7.3"
  }
 },
 "nbformat": 4,
 "nbformat_minor": 1
}
