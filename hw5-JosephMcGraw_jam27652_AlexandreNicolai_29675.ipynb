{
 "cells": [
  {
   "cell_type": "markdown",
   "metadata": {},
   "source": [
    "\n",
    "# <p style=\"text-align: center;\">MIS 382N: ADVANCED PREDICTIVE MODELING - MSBA</p>\n",
    "# <p style=\"text-align: center;\">Assignment 5 - BONUS - SECTION-A (3.30pm to 5pm class)</p>\n",
    "## <p style=\"text-align: center;\">Points: 95, Bonus: 40 </p>\n",
    "## <p style=\"text-align: center;\">Due: November 30, submitted via Canvas by 11:59 pm</p>\n",
    "\n",
    "Your homework should be written in a **Jupyter notebook**. You may work in groups of two if you wish. Your partner needs to be from the same section. Only one student per team needs to submit the assignment on Canvas.  But be sure to include name and UTEID for both students.  Homework groups will be created and managed through Canvas, so please do not arbitrarily change your homework group. If you do change, let the TA know. \n",
    "\n",
    "Also, please make sure your code runs and the graphics (and anything else) are displayed in your notebook before submitting. (%matplotlib inline)\n",
    "\n",
    "### Name(s)\n",
    "1. Joseph (Alex) McGraw jam27652\n",
    "2. Alexandre Nicolaï 29675"
   ]
  },
  {
   "cell_type": "markdown",
   "metadata": {},
   "source": [
    "# Question 1 : Bayesian Belief Networks (15 pts)"
   ]
  },
  {
   "cell_type": "markdown",
   "metadata": {},
   "source": [
    "![Question 1](https://i.imgur.com/3ayVbFi.jpeg) \n",
    "\n",
    "All nodes are binary and can take 0/1 values\n",
    "\n",
    "The probabilities are given below:\n",
    "\n",
    "P(Bark = 1) = 0.05   \n",
    "P(Rain = 1) = 0.01\n",
    "\n",
    "\n",
    "P(Scared = 1 | Bark = 0, Rain = 0) = 0.001  \n",
    "P(Scared = 1 | Bark = 0, Rain = 1) = 0.1  \n",
    "P(Scared = 1 | Bark = 1, Rain = 0) = 0.8  \n",
    "P(Scared = 1 | Bark = 1, Rain = 1) = 0.9  \n",
    "\n",
    "P(Hides = 1 | Scared = 1) = 0.95  \n",
    "P(Hides = 1 | Scared = 0) = 0.05  \n",
    "\n",
    "For the given Bayesian network, Compute the following probabilities :  \n",
    "\n",
    "\n",
    "**(a) (4 pts)** Find the probability that cat hides = 1.  \n",
    "**(b) (4 pts)** Given that cat got scared (Scared = 1), what is the probability that it rained (Rain = 1)?  \n",
    "**(c) (7 pts)** Given that cat got scared (Scared = 1) and the dog barked (Bark = 1), what is the probability that it rained (Rain = 1)?"
   ]
  },
  {
   "cell_type": "markdown",
   "metadata": {},
   "source": [
    "### A"
   ]
  },
  {
   "cell_type": "markdown",
   "metadata": {},
   "source": [
    "P(hides| scared=T, bark=F, rain=F) = .001 * (1-.05) * (1-.01) = 0.0094%\n",
    "\n",
    "P(hides| scared=T, bark=T, rain=F) = 0.8 * (.05) * (1-.01) = 3.96%\n",
    "\n",
    "P(hides| scared=T, bark=F, rain=T) = 0.1 * (1-.05) * (.01) = 0.095%\n",
    "\n",
    "P(hides| scared=T, bark=T, rain=T) = 0.9 * 0.05 * 0.01 = 0.045%\n",
    "\n",
    "sum of 4 probabilities = 4.1094%\n",
    "\n",
    "\n",
    "P(hides=1)\n",
    "\n",
    ".95(.041094) + .05(1-.041094) = .0390393 + .0479453 = .0869846 == 8.70%"
   ]
  },
  {
   "cell_type": "markdown",
   "metadata": {},
   "source": [
    "### B \n",
    "\n",
    "P(rain| scared=T) = (P(scared=T| rain) * P(rain)) / P(scared=T)\n",
    "\n",
    "P(scared=T | rain=T) = P(scared=T, rain=T) / P(rain=T) = (0.095% + 0.045%) / 0.01% = 14%\n",
    "\n",
    "P(scared=T) = sum of 4 probabilities (Part A) = 4.1094%\n",
    "\n",
    "P(rain| scared=T) = .14 * .01 / .041094 = 0.034 = 3.4%"
   ]
  },
  {
   "cell_type": "markdown",
   "metadata": {},
   "source": [
    "### C\n",
    "P(rained=T| scared=T, barked=T) = P(scared=T, barked=T| rained=T) * P(rained=T) / P(scared=T, barked=T)\n",
    "\n",
    "P(scared=T, barked=T | rained=T) = P(scared=T, barked=T, rained=T) / P(rained=T) = .00045 / .01 = .045\n",
    "\n",
    "P(scared=T, barked=T) = .0396 + .00045 = .04005\n",
    "\n",
    "P(rained=T| scared=T, barked=T) = (.045 * .01) / .04005 = .01124 = 1.124%"
   ]
  },
  {
   "cell_type": "markdown",
   "metadata": {},
   "source": [
    "# Question 2 - **Random Forest (30 pts)**  \n",
    "\n",
    "The goal of this problem is to explore the effect of feature selection using  the following dataset (same as in HW 4) https://www.kaggle.com/wendykan/lending-club-loan-data\n",
    "\n",
    "Since the dataset is really huge, we will use only a certain set of features and samples to build our model. We will also use only two classes instead of all.\n",
    "\n",
    "The modified dataset with reduced number of samples has been prepared for your use. The file can be downloaded using the code below. You can also find it [here](https://drive.google.com/file/d/1Gv_N1rHLqDizxUck6l06BfniR30Pw0Zs/view?usp=sharing) in case you have a different environment and this code does not run.\n",
    "\n"
   ]
  },
  {
   "cell_type": "code",
   "execution_count": 1,
   "metadata": {},
   "outputs": [
    {
     "name": "stdout",
     "output_type": "stream",
     "text": [
      "File already exists\n"
     ]
    }
   ],
   "source": [
    "%%bash\n",
    "ggID='1Gv_N1rHLqDizxUck6l06BfniR30Pw0Zs'  \n",
    "ggURL='https://drive.google.com/uc?export=download'  \n",
    "filename=\"$(curl -sc /tmp/gcokie \"${ggURL}&id=${ggID}\" | grep -o '=\"uc-name.*</span>' | sed 's/.*\">//;s/<.a> .*//')\"  \n",
    "getcode=\"$(awk '/_warning_/ {print $NF}' /tmp/gcokie)\"  \n",
    "\n",
    "if [ -e \"${filename}\" ]; then\n",
    "    echo 'File already exists'\n",
    "else\n",
    "    curl -Lb /tmp/gcokie \"${ggURL}&confirm=${getcode}&id=${ggID}\" -o \"${filename}\"  \n",
    "fi"
   ]
  },
  {
   "cell_type": "code",
   "execution_count": 2,
   "metadata": {},
   "outputs": [
    {
     "data": {
      "text/html": [
       "<div>\n",
       "<style scoped>\n",
       "    .dataframe tbody tr th:only-of-type {\n",
       "        vertical-align: middle;\n",
       "    }\n",
       "\n",
       "    .dataframe tbody tr th {\n",
       "        vertical-align: top;\n",
       "    }\n",
       "\n",
       "    .dataframe thead th {\n",
       "        text-align: right;\n",
       "    }\n",
       "</style>\n",
       "<table border=\"1\" class=\"dataframe\">\n",
       "  <thead>\n",
       "    <tr style=\"text-align: right;\">\n",
       "      <th></th>\n",
       "      <th>loan_amnt</th>\n",
       "      <th>funded_amnt</th>\n",
       "      <th>funded_amnt_inv</th>\n",
       "      <th>int_rate</th>\n",
       "      <th>installment</th>\n",
       "      <th>annual_inc</th>\n",
       "      <th>loan_status</th>\n",
       "      <th>dti</th>\n",
       "      <th>open_acc</th>\n",
       "      <th>pub_rec</th>\n",
       "      <th>...</th>\n",
       "      <th>last_pymnt_d_Feb-2019</th>\n",
       "      <th>last_pymnt_d_Jan-2019</th>\n",
       "      <th>last_pymnt_d_Jul-2018</th>\n",
       "      <th>last_pymnt_d_Nov-2018</th>\n",
       "      <th>last_pymnt_d_Oct-2018</th>\n",
       "      <th>last_pymnt_d_Sep-2018</th>\n",
       "      <th>application_type_Individual</th>\n",
       "      <th>application_type_Joint App</th>\n",
       "      <th>debt_settlement_flag_N</th>\n",
       "      <th>debt_settlement_flag_Y</th>\n",
       "    </tr>\n",
       "  </thead>\n",
       "  <tbody>\n",
       "    <tr>\n",
       "      <th>0</th>\n",
       "      <td>2500</td>\n",
       "      <td>2500</td>\n",
       "      <td>2500.0</td>\n",
       "      <td>13.56</td>\n",
       "      <td>84.92</td>\n",
       "      <td>55000.0</td>\n",
       "      <td>1</td>\n",
       "      <td>18.24</td>\n",
       "      <td>9.0</td>\n",
       "      <td>1.0</td>\n",
       "      <td>...</td>\n",
       "      <td>1</td>\n",
       "      <td>0</td>\n",
       "      <td>0</td>\n",
       "      <td>0</td>\n",
       "      <td>0</td>\n",
       "      <td>0</td>\n",
       "      <td>1</td>\n",
       "      <td>0</td>\n",
       "      <td>1</td>\n",
       "      <td>0</td>\n",
       "    </tr>\n",
       "    <tr>\n",
       "      <th>1</th>\n",
       "      <td>30000</td>\n",
       "      <td>30000</td>\n",
       "      <td>30000.0</td>\n",
       "      <td>18.94</td>\n",
       "      <td>777.23</td>\n",
       "      <td>90000.0</td>\n",
       "      <td>1</td>\n",
       "      <td>26.52</td>\n",
       "      <td>13.0</td>\n",
       "      <td>1.0</td>\n",
       "      <td>...</td>\n",
       "      <td>1</td>\n",
       "      <td>0</td>\n",
       "      <td>0</td>\n",
       "      <td>0</td>\n",
       "      <td>0</td>\n",
       "      <td>0</td>\n",
       "      <td>1</td>\n",
       "      <td>0</td>\n",
       "      <td>1</td>\n",
       "      <td>0</td>\n",
       "    </tr>\n",
       "    <tr>\n",
       "      <th>2</th>\n",
       "      <td>5000</td>\n",
       "      <td>5000</td>\n",
       "      <td>5000.0</td>\n",
       "      <td>17.97</td>\n",
       "      <td>180.69</td>\n",
       "      <td>59280.0</td>\n",
       "      <td>1</td>\n",
       "      <td>10.51</td>\n",
       "      <td>8.0</td>\n",
       "      <td>0.0</td>\n",
       "      <td>...</td>\n",
       "      <td>1</td>\n",
       "      <td>0</td>\n",
       "      <td>0</td>\n",
       "      <td>0</td>\n",
       "      <td>0</td>\n",
       "      <td>0</td>\n",
       "      <td>1</td>\n",
       "      <td>0</td>\n",
       "      <td>1</td>\n",
       "      <td>0</td>\n",
       "    </tr>\n",
       "    <tr>\n",
       "      <th>3</th>\n",
       "      <td>4000</td>\n",
       "      <td>4000</td>\n",
       "      <td>4000.0</td>\n",
       "      <td>18.94</td>\n",
       "      <td>146.51</td>\n",
       "      <td>92000.0</td>\n",
       "      <td>1</td>\n",
       "      <td>16.74</td>\n",
       "      <td>10.0</td>\n",
       "      <td>0.0</td>\n",
       "      <td>...</td>\n",
       "      <td>1</td>\n",
       "      <td>0</td>\n",
       "      <td>0</td>\n",
       "      <td>0</td>\n",
       "      <td>0</td>\n",
       "      <td>0</td>\n",
       "      <td>1</td>\n",
       "      <td>0</td>\n",
       "      <td>1</td>\n",
       "      <td>0</td>\n",
       "    </tr>\n",
       "    <tr>\n",
       "      <th>4</th>\n",
       "      <td>30000</td>\n",
       "      <td>30000</td>\n",
       "      <td>30000.0</td>\n",
       "      <td>16.14</td>\n",
       "      <td>731.78</td>\n",
       "      <td>57250.0</td>\n",
       "      <td>1</td>\n",
       "      <td>26.35</td>\n",
       "      <td>12.0</td>\n",
       "      <td>0.0</td>\n",
       "      <td>...</td>\n",
       "      <td>1</td>\n",
       "      <td>0</td>\n",
       "      <td>0</td>\n",
       "      <td>0</td>\n",
       "      <td>0</td>\n",
       "      <td>0</td>\n",
       "      <td>1</td>\n",
       "      <td>0</td>\n",
       "      <td>1</td>\n",
       "      <td>0</td>\n",
       "    </tr>\n",
       "  </tbody>\n",
       "</table>\n",
       "<p>5 rows × 161 columns</p>\n",
       "</div>"
      ],
      "text/plain": [
       "   loan_amnt  funded_amnt  funded_amnt_inv  int_rate  installment  annual_inc  \\\n",
       "0       2500         2500           2500.0     13.56        84.92     55000.0   \n",
       "1      30000        30000          30000.0     18.94       777.23     90000.0   \n",
       "2       5000         5000           5000.0     17.97       180.69     59280.0   \n",
       "3       4000         4000           4000.0     18.94       146.51     92000.0   \n",
       "4      30000        30000          30000.0     16.14       731.78     57250.0   \n",
       "\n",
       "   loan_status    dti  open_acc  pub_rec  ...  last_pymnt_d_Feb-2019  \\\n",
       "0            1  18.24       9.0      1.0  ...                      1   \n",
       "1            1  26.52      13.0      1.0  ...                      1   \n",
       "2            1  10.51       8.0      0.0  ...                      1   \n",
       "3            1  16.74      10.0      0.0  ...                      1   \n",
       "4            1  26.35      12.0      0.0  ...                      1   \n",
       "\n",
       "   last_pymnt_d_Jan-2019  last_pymnt_d_Jul-2018  last_pymnt_d_Nov-2018  \\\n",
       "0                      0                      0                      0   \n",
       "1                      0                      0                      0   \n",
       "2                      0                      0                      0   \n",
       "3                      0                      0                      0   \n",
       "4                      0                      0                      0   \n",
       "\n",
       "   last_pymnt_d_Oct-2018  last_pymnt_d_Sep-2018  application_type_Individual  \\\n",
       "0                      0                      0                            1   \n",
       "1                      0                      0                            1   \n",
       "2                      0                      0                            1   \n",
       "3                      0                      0                            1   \n",
       "4                      0                      0                            1   \n",
       "\n",
       "   application_type_Joint App  debt_settlement_flag_N  debt_settlement_flag_Y  \n",
       "0                           0                       1                       0  \n",
       "1                           0                       1                       0  \n",
       "2                           0                       1                       0  \n",
       "3                           0                       1                       0  \n",
       "4                           0                       1                       0  \n",
       "\n",
       "[5 rows x 161 columns]"
      ]
     },
     "execution_count": 2,
     "metadata": {},
     "output_type": "execute_result"
    }
   ],
   "source": [
    "import os, sys, re\n",
    "import time\n",
    "import numpy as np\n",
    "import pandas as pd\n",
    "from sklearn.model_selection import train_test_split\n",
    "import warnings\n",
    "warnings.filterwarnings('ignore')\n",
    "\n",
    "dataset = pd.read_csv('loan.csv')\n",
    "df = dataset.fillna(0)\n",
    "\n",
    "def LoanResult(status):\n",
    "    if (status == 'Fully Paid') or (status == 'Current'):\n",
    "        return 1\n",
    "    else:\n",
    "        return 0\n",
    "\n",
    "df['loan_status'] = df['loan_status'].apply(LoanResult)\n",
    "\n",
    "df = df[['loan_amnt', 'funded_amnt', 'funded_amnt_inv', 'term', 'int_rate', 'installment', 'grade', 'sub_grade',\n",
    "             'emp_length', 'home_ownership','annual_inc', 'verification_status', 'loan_status',\n",
    "             'purpose','addr_state', 'dti','open_acc', 'pub_rec', 'revol_bal', 'revol_util', \n",
    "             'initial_list_status', 'recoveries','collection_recovery_fee', 'last_pymnt_d', 'last_pymnt_amnt',\n",
    "             'application_type', 'tot_coll_amt', 'tot_cur_bal', 'avg_cur_bal', 'chargeoff_within_12_mths',\n",
    "             'pub_rec_bankruptcies', 'tax_liens', 'debt_settlement_flag']]\n",
    "df_cat = df.select_dtypes(exclude=['int64', 'float64'])\n",
    "df = pd.get_dummies(df, df_cat.columns.values)\n",
    "df.head()\n"
   ]
  },
  {
   "cell_type": "markdown",
   "metadata": {},
   "source": [
    "Select the `loan_status` column as the target column.  \n",
    "\n",
    "\n",
    "**Part 1: (3 pts)** Split the dataset into train and test set with 25% data in test set and random_state = 42. Perform [Min-Max Scaling](https://scikit-learn.org/stable/modules/generated/sklearn.preprocessing.MinMaxScaler.html) on the dataset. Print the total number of features. \n",
    "\n",
    "**Part 2: (5 pts)** Use the dataset to create a `RandomForestClassifier(n_estimators=5, random_state=42)` model and print the [classification_report](https://scikit-learn.org/stable/modules/generated/sklearn.metrics.classification_report.html) to show the precision, recall and F1 score based on the test set.  \n",
    "\n",
    "**Part 3: (6 pts)** Use [$\\chi^2$ test](https://scikit-learn.org/stable/modules/generated/sklearn.feature_selection.chi2.html) to select the top 100, 30 and 10 features using [SelectKBest](https://scikit-learn.org/stable/modules/feature_selection.html#univariate-feature-selection) module. Train a random forest model and print the [classification_report](https://scikit-learn.org/stable/modules/generated/sklearn.metrics.classification_report.html) for each of the trained models.  \n",
    "\n",
    "**Note:** $\\chi^2$ test requires non-negative values only for all features. Since we have performed Min-Max scaling previously (where the default behavior is to scale features between 0 and 1, there should not be any problem performing this test.)   \n",
    "\n",
    "**Part 4: (6 pts)** [Plot the ROC curves](https://github.com/justmarkham/scikit-learn-tips/blob/master/notebooks/21_plot_roc_curve.ipynb) for all of the 4 models.  \n",
    "\n",
    "**Part 5: (8 pts)** Plot the feature importance for each of the 4 random forest models that you have trained to show the top 5 features. ([Get feature names after feature selection](https://stackoverflow.com/a/43765224), [Plot feature importance using Pandas and matplotlib](https://stackoverflow.com/a/51520906))  \n",
    "\n",
    "**Part 6: (2 pts)** What do you observe from the ROC curves?"
   ]
  },
  {
   "cell_type": "markdown",
   "metadata": {},
   "source": [
    "# Solution"
   ]
  },
  {
   "cell_type": "markdown",
   "metadata": {},
   "source": [
    "Part 1: (3 pts) Split the dataset into train and test set with 25% data in test set and random_state = 42. Perform Min-Max Scaling on the dataset. Print the total number of features."
   ]
  },
  {
   "cell_type": "code",
   "execution_count": 3,
   "metadata": {},
   "outputs": [
    {
     "name": "stdout",
     "output_type": "stream",
     "text": [
      "Number of variables to train on: 160\n"
     ]
    }
   ],
   "source": [
    "from sklearn.preprocessing import MinMaxScaler\n",
    "\n",
    "y = df['loan_status']\n",
    "X = df.drop(['loan_status'], axis=1)\n",
    "\n",
    "X_train, X_test, y_train, y_test = train_test_split(X, y, random_state=42, test_size = .25)\n",
    "scaler = MinMaxScaler()\n",
    "\n",
    "X_train = scaler.fit_transform(X_train)\n",
    "X_test = scaler.transform(X_test)\n",
    "\n",
    "print(\"Number of variables to train on:\", len(X.columns))"
   ]
  },
  {
   "cell_type": "markdown",
   "metadata": {},
   "source": [
    "Part 2: (5 pts) Use the dataset to create a RandomForestClassifier(n_estimators=5, random_state=42) model and print the classification_report to show the precision, recall and F1 score based on the test set."
   ]
  },
  {
   "cell_type": "code",
   "execution_count": 4,
   "metadata": {},
   "outputs": [
    {
     "name": "stdout",
     "output_type": "stream",
     "text": [
      "              precision    recall  f1-score   support\n",
      "\n",
      "           0       0.63      0.37      0.46       850\n",
      "           1       0.99      1.00      0.99     55667\n",
      "\n",
      "    accuracy                           0.99     56517\n",
      "   macro avg       0.81      0.68      0.73     56517\n",
      "weighted avg       0.98      0.99      0.99     56517\n",
      "\n"
     ]
    }
   ],
   "source": [
    "from sklearn.ensemble import RandomForestClassifier\n",
    "from sklearn.metrics import classification_report\n",
    "\n",
    "RFC = RandomForestClassifier(n_estimators=5, random_state=42).fit(X_train, y_train)\n",
    "pred = RFC.predict(X_test)\n",
    "\n",
    "print(classification_report(y_test, pred))"
   ]
  },
  {
   "cell_type": "markdown",
   "metadata": {},
   "source": [
    "Part 3: (6 pts) Use  𝜒2\n",
    "χ\n",
    "2\n",
    "  test to select the top 100, 30 and 10 features using SelectKBest module. Train a random forest model and print the classification_report for each of the trained models.\n",
    "\n",
    "Note:  𝜒2\n",
    "χ\n",
    "2\n",
    "  test requires non-negative values only for all features. Since we have performed Min-Max scaling previously (where the default behavior is to scale features between 0 and 1, there should not be any problem performing this test.)"
   ]
  },
  {
   "cell_type": "code",
   "execution_count": 5,
   "metadata": {},
   "outputs": [
    {
     "name": "stdout",
     "output_type": "stream",
     "text": [
      "100 variable report:\n",
      "               precision    recall  f1-score   support\n",
      "\n",
      "           0       0.65      0.45      0.53       850\n",
      "           1       0.99      1.00      0.99     55667\n",
      "\n",
      "    accuracy                           0.99     56517\n",
      "   macro avg       0.82      0.72      0.76     56517\n",
      "weighted avg       0.99      0.99      0.99     56517\n",
      "\n"
     ]
    }
   ],
   "source": [
    "from sklearn.feature_selection import chi2, SelectKBest\n",
    "\n",
    "#100\n",
    "SKB100 = SelectKBest(chi2, k=100)\n",
    "X_train_100 = SKB100.fit_transform(X_train, y_train)\n",
    "X_test_100 = SKB100.transform(X_test)\n",
    "\n",
    "RFC100 = RandomForestClassifier(n_estimators=5, random_state=42).fit(X_train_100, y_train)\n",
    "pred_100 = RFC100.predict(X_test_100)\n",
    "print(\"100 variable report:\\n\", classification_report(y_test, pred_100))"
   ]
  },
  {
   "cell_type": "code",
   "execution_count": 6,
   "metadata": {},
   "outputs": [
    {
     "name": "stdout",
     "output_type": "stream",
     "text": [
      "30 variable report:\n",
      "               precision    recall  f1-score   support\n",
      "\n",
      "           0       0.49      0.13      0.21       850\n",
      "           1       0.99      1.00      0.99     55667\n",
      "\n",
      "    accuracy                           0.98     56517\n",
      "   macro avg       0.74      0.56      0.60     56517\n",
      "weighted avg       0.98      0.98      0.98     56517\n",
      "\n"
     ]
    }
   ],
   "source": [
    "#30\n",
    "SKB30 = SelectKBest(chi2, k=30)\n",
    "X_train_30 = SKB30.fit_transform(X_train, y_train)\n",
    "X_test_30 = SKB30.transform(X_test)\n",
    "\n",
    "RFC30 = RandomForestClassifier(n_estimators=5, random_state=42).fit(X_train_30, y_train)\n",
    "pred_30 = RFC30.predict(X_test_30)\n",
    "print(\"30 variable report:\\n\", classification_report(y_test, pred_30))"
   ]
  },
  {
   "cell_type": "code",
   "execution_count": 7,
   "metadata": {},
   "outputs": [
    {
     "name": "stdout",
     "output_type": "stream",
     "text": [
      "10 variable report:\n",
      "               precision    recall  f1-score   support\n",
      "\n",
      "           0       1.00      0.07      0.14       850\n",
      "           1       0.99      1.00      0.99     55667\n",
      "\n",
      "    accuracy                           0.99     56517\n",
      "   macro avg       0.99      0.54      0.56     56517\n",
      "weighted avg       0.99      0.99      0.98     56517\n",
      "\n"
     ]
    }
   ],
   "source": [
    "#10\n",
    "SKB10 = SelectKBest(chi2, k=10)\n",
    "X_train_10 = SKB10.fit_transform(X_train, y_train)\n",
    "X_test_10 = SKB10.transform(X_test)\n",
    "\n",
    "RFC10 = RandomForestClassifier(n_estimators=5, random_state=42).fit(X_train_10, y_train)\n",
    "pred_10 = RFC10.predict(X_test_10)\n",
    "print(\"10 variable report:\\n\", classification_report(y_test, pred_10))"
   ]
  },
  {
   "cell_type": "markdown",
   "metadata": {},
   "source": [
    "Part 4: (6 pts) Plot the ROC curves for all of the 4 models."
   ]
  },
  {
   "cell_type": "code",
   "execution_count": 8,
   "metadata": {},
   "outputs": [
    {
     "data": {
      "text/plain": [
       "<sklearn.metrics._plot.roc_curve.RocCurveDisplay at 0x7fa5a4e84d68>"
      ]
     },
     "execution_count": 8,
     "metadata": {},
     "output_type": "execute_result"
    },
    {
     "data": {
      "image/png": "[encoded data removed]",
      "text/plain": [
       "<Figure size 432x288 with 1 Axes>"
      ]
     },
     "metadata": {
      "needs_background": "light"
     },
     "output_type": "display_data"
    }
   ],
   "source": [
    "%matplotlib inline\n",
    "from sklearn.metrics import plot_roc_curve\n",
    "\n",
    "disp = plot_roc_curve(RFC, X_test, y_test, name='All Features')\n",
    "plot_roc_curve(RFC100, X_test_100, y_test, ax=disp.ax_, name='100 Features')\n",
    "plot_roc_curve(RFC30, X_test_30, y_test, ax=disp.ax_, name='30 Features')\n",
    "plot_roc_curve(RFC10, X_test_10, y_test, ax=disp.ax_, name='10 Features')"
   ]
  },
  {
   "cell_type": "markdown",
   "metadata": {},
   "source": [
    "Part 5: (8 pts) Plot the feature importance for each of the 4 random forest models that you have trained to show the top 5 features. (Get feature names after feature selection, Plot feature importance using Pandas and matplotlib)"
   ]
  },
  {
   "cell_type": "code",
   "execution_count": 9,
   "metadata": {},
   "outputs": [
    {
     "data": {
      "text/plain": [
       "<matplotlib.axes._subplots.AxesSubplot at 0x7fa5a4e840b8>"
      ]
     },
     "execution_count": 9,
     "metadata": {},
     "output_type": "execute_result"
    },
    {
     "data": {
      "image/png": "[encoded data removed]",
      "text/plain": [
       "<Figure size 432x288 with 1 Axes>"
      ]
     },
     "metadata": {
      "needs_background": "light"
     },
     "output_type": "display_data"
    }
   ],
   "source": [
    "# Top 5 from all features\n",
    "#All_top5 = RFC.get_support(indices=True)\n",
    "#X_train = pd.DataFrame(X_train, columns=X.columns)\n",
    "#All_features = X_train.iloc[:,All_top5]\n",
    "\n",
    "allFeat = pd.Series(RFC.feature_importances_, index=X.columns)\n",
    "allFeat.nlargest(5).plot(kind='bar')"
   ]
  },
  {
   "cell_type": "code",
   "execution_count": 10,
   "metadata": {},
   "outputs": [
    {
     "data": {
      "text/plain": [
       "<matplotlib.axes._subplots.AxesSubplot at 0x7fa5a0219400>"
      ]
     },
     "execution_count": 10,
     "metadata": {},
     "output_type": "execute_result"
    },
    {
     "data": {
      "image/png": "[encoded data removed]",
      "text/plain": [
       "<Figure size 432x288 with 1 Axes>"
      ]
     },
     "metadata": {
      "needs_background": "light"
     },
     "output_type": "display_data"
    }
   ],
   "source": [
    "# Top 5 from 100 important features\n",
    "SK100_top5 = SKB100.get_support(indices=True)\n",
    "X_train = pd.DataFrame(X_train, columns=X.columns)\n",
    "SK100_features = X_train.iloc[:,SK100_top5]\n",
    "\n",
    "featPlot100 = pd.Series(RFC100.feature_importances_, index=SK100_features.columns)\n",
    "featPlot100.nlargest(5).plot(kind='bar')"
   ]
  },
  {
   "cell_type": "code",
   "execution_count": 11,
   "metadata": {},
   "outputs": [
    {
     "data": {
      "text/plain": [
       "<matplotlib.axes._subplots.AxesSubplot at 0x7fa58d5a00b8>"
      ]
     },
     "execution_count": 11,
     "metadata": {},
     "output_type": "execute_result"
    },
    {
     "data": {
      "image/png": "[encoded data removed]",
      "text/plain": [
       "<Figure size 432x288 with 1 Axes>"
      ]
     },
     "metadata": {
      "needs_background": "light"
     },
     "output_type": "display_data"
    }
   ],
   "source": [
    "# Top 5 from 30 important features\n",
    "SK30_top5 = SKB30.get_support(indices=True)\n",
    "X_train = pd.DataFrame(X_train, columns=X.columns)\n",
    "SK30_features = X_train.iloc[:,SK30_top5]\n",
    "\n",
    "featPlot30 = pd.Series(RFC30.feature_importances_, index=SK30_features.columns)\n",
    "featPlot30.nlargest(5).plot(kind='bar')"
   ]
  },
  {
   "cell_type": "code",
   "execution_count": 12,
   "metadata": {},
   "outputs": [
    {
     "data": {
      "text/plain": [
       "<matplotlib.axes._subplots.AxesSubplot at 0x7fa58fd6d240>"
      ]
     },
     "execution_count": 12,
     "metadata": {},
     "output_type": "execute_result"
    },
    {
     "data": {
      "image/png": "[encoded data removed]",
      "text/plain": [
       "<Figure size 432x288 with 1 Axes>"
      ]
     },
     "metadata": {
      "needs_background": "light"
     },
     "output_type": "display_data"
    }
   ],
   "source": [
    "# Top 5 from 10 important features\n",
    "SK10_top5 = SKB10.get_support(indices=True)\n",
    "X_train = pd.DataFrame(X_train, columns=X.columns)\n",
    "SK10_features = X_train.iloc[:,SK10_top5]\n",
    "\n",
    "featPlot10 = pd.Series(RFC10.feature_importances_, index=SK10_features.columns)\n",
    "featPlot10.nlargest(5).plot(kind='bar')"
   ]
  },
  {
   "cell_type": "markdown",
   "metadata": {},
   "source": [
    "Part 6: (2 pts) What do you observe from the ROC curves?"
   ]
  },
  {
   "cell_type": "markdown",
   "metadata": {},
   "source": [
    "The model with only 10 features performed significantly better than the other models. It had the highest true positive, and lowest false positive rate out of all of the models. "
   ]
  },
  {
   "cell_type": "markdown",
   "metadata": {},
   "source": [
    "# Question 3 : Logistic Regression with Regularization and Decision Tree (25 pts)\n",
    "\n",
    "The goal of this problem is to explore the effect of regularization on logistic regression for binary classification, we will be using the diabetes dataset. \n",
    "This dataset is used to predict if a person is having \n",
    "diabetes based on feature variables including blood pressure, bmi, age etc. The target variable is stored in \"outcome\" column.\n",
    "\n",
    "* Load the \"diabetes.csv\" and partition it into features (X) and the target label (y) for classification task. Then, use [train_test_split](http://scikit-learn.org/stable/modules/generated/sklearn.model_selection.train_test_split.html) to split data into training and testing: test_size=0.33, random_state=42. \n",
    "\n",
    "\n",
    "* We need to use [StandardScaler](https://scikit-learn.org/stable/modules/generated/sklearn.preprocessing.StandardScaler.html). Instead of fitting a model on the original data, we use StandardScaler to center each feature. Also remember that when we have training and testing data, we fit preprocessing parameters on training data and apply them to all testing data. You should scale only the features (independent variables), not the target variable y. \n",
    "\n",
    "   Note: X should have 8 features.\n",
    "\n",
    "\n",
    "**Part 1: (6 pts)** Fit a [logistic regression](https://scikit-learn.org/stable/modules/generated/sklearn.linear_model.LogisticRegression.html) model with penalty $l2$\n",
    "(Ridge Regularization) for the following values of regularization  C = $[0.0001,0.001,0.1,10,100]$ using the training data. Report the accuracy score on the test data averaged over 5 runs of the model for each of the C values. \n",
    "\n",
    "  Note : Smaller values of C indicate stronger regularization\n",
    "\n",
    "    \n",
    "\n",
    "**Part 2: (6 pts)** Fit a [Decision tree](https://scikit-learn.org/stable/modules/generated/sklearn.tree.DecisionTreeClassifier.html) classifier on the training data, and report the accuracy score on the test data averaged over 5 runs. Briefly explain which of the models performed the best Logistic Regression + regularization or Decision Tree Classifier and why. \n",
    "\n",
    "\n",
    "* Now, We will check if the decision boundary from logistic regression is linear by using a 2D plot.\n",
    "\n",
    "\n",
    "**Part 3: (4 pts)** Select the top two most important features ([Feature importance](https://scikit-learn.org/stable/modules/generated/sklearn.tree.DecisionTreeClassifier.html#sklearn.tree.DecisionTreeClassifier.feature_importances_)) using the training data with a Decision Tree Classifier and random_state = 10. Subset the train and test data to have only the selected features. This will be used as the training and test data for part $4$.\n",
    "\n",
    "\n",
    "**Part 4: (8 pts)** Fit a [logistic regression](https://scikit-learn.org/stable/modules/generated/sklearn.linear_model.LogisticRegression.html) model with penalty = $l2$, C = 10 (Ridge Regularization) and random state = 0 for the training data from part $3$ . Plot the decision boundary of the logistic regression model with the two features, as X and Y axis. Here is an [example](https://scikit-learn.org/stable/auto_examples/linear_model/plot_iris_logistic.html) . Plot the scatter points for the test data, on the same graph showing the two classes as two different color. \n",
    "\n",
    "  * Hint : You can use the below limits for plotting the decision boundary, where $X[:,0]$ indicates feature 1 values and $X[:,1]$ indicates feature 2 values of the train dataset. \n",
    "\n",
    "     $ x_\\min, x_\\max = X[:, 0].min() - .5, X[:, 0].max() + .5 $ \n",
    "\n",
    "     $ y_\\min, y_\\max = X[:, 1].min() - .5, X[:, 1].max() + .5 $\n",
    "   "
   ]
  },
  {
   "cell_type": "markdown",
   "metadata": {},
   "source": [
    "# Solution"
   ]
  },
  {
   "cell_type": "markdown",
   "metadata": {},
   "source": [
    "#### Loading dataset and pre-processing (**1 pt**)"
   ]
  },
  {
   "cell_type": "code",
   "execution_count": 13,
   "metadata": {},
   "outputs": [],
   "source": [
    "from sklearn.preprocessing import StandardScaler\n",
    "\n",
    "diabetes = pd.read_csv('diabetes.csv')\n",
    "\n",
    "y = diabetes['Outcome']\n",
    "X = diabetes.drop('Outcome', axis=1)\n",
    "\n",
    "X_train, X_test, y_train, y_test = train_test_split(X, y, test_size = 0.33, random_state=42)\n",
    "\n",
    "scaler = StandardScaler()\n",
    "\n",
    "X_train = scaler.fit_transform(X_train)\n",
    "X_test = scaler.transform(X_test)"
   ]
  },
  {
   "cell_type": "markdown",
   "metadata": {},
   "source": [
    "#### Part 1 (**6 pts**)\n",
    "\n",
    "Fit a logistic regression model with penalty  𝑙2\n",
    "l\n",
    "2\n",
    "  (Ridge Regularization) for the following values of regularization C =  [0.0001,0.001,0.1,10,100]\n",
    "[\n",
    "0.0001\n",
    ",\n",
    "0.001\n",
    ",\n",
    "0.1\n",
    ",\n",
    "10\n",
    ",\n",
    "100\n",
    "]\n",
    "  using the training data. Report the accuracy score on the test data averaged over 5 runs of the model for each of the C values.\n",
    "Note : Smaller values of C indicate stronger regularization"
   ]
  },
  {
   "cell_type": "code",
   "execution_count": 14,
   "metadata": {},
   "outputs": [
    {
     "data": {
      "text/plain": [
       "0.7125984251968503"
      ]
     },
     "execution_count": 14,
     "metadata": {},
     "output_type": "execute_result"
    }
   ],
   "source": [
    "from sklearn.linear_model import LogisticRegression\n",
    "from sklearn.metrics import accuracy_score\n",
    "\n",
    "acc_scores = pd.Series(index=[0.0001,0.001,0.1,10,100])\n",
    "\n",
    "for i in [0.0001,0.001,0.1,10,100]:\n",
    "    model = LogisticRegression(penalty='l2', C=i).fit(X_train, y_train)\n",
    "    pred = model.predict(X_test)\n",
    "    acc_scores.loc[i] = accuracy_score(y_test, pred)\n",
    "    \n",
    "acc_scores.mean()"
   ]
  },
  {
   "cell_type": "markdown",
   "metadata": {},
   "source": [
    "#### Part 2 (**6 pts**)\n",
    "Fit a Decision tree classifier on the training data, and report the accuracy score on the test data averaged over 5 runs. Briefly explain which of the models performed the best Logistic Regression + regularization or Decision Tree Classifier and why.\n",
    "Now, We will check if the decision boundary from logistic regression is linear by using a 2D plot."
   ]
  },
  {
   "cell_type": "code",
   "execution_count": 15,
   "metadata": {},
   "outputs": [
    {
     "data": {
      "text/plain": [
       "0.7078740157480314"
      ]
     },
     "execution_count": 15,
     "metadata": {},
     "output_type": "execute_result"
    }
   ],
   "source": [
    "from sklearn.tree import DecisionTreeClassifier\n",
    "\n",
    "tree_scores = pd.Series()\n",
    "\n",
    "for i in range(5):\n",
    "    model = DecisionTreeClassifier().fit(X_train, y_train)\n",
    "    pred = model.predict(X_test)\n",
    "    tree_scores.loc[i] = accuracy_score(y_test, pred)\n",
    "    \n",
    "tree_scores.mean()"
   ]
  },
  {
   "cell_type": "markdown",
   "metadata": {},
   "source": [
    "The 5 logistic regression models averaged together predicted better than 5 decision tree classifiers averaged together. This is because a decision tree that does not have a maximum depth specificed is prone to overfitting. "
   ]
  },
  {
   "cell_type": "markdown",
   "metadata": {},
   "source": [
    "#### Part 3 (**4 pts**)\n",
    "Select the top two most important features (Feature importance) using the training data with a Decision Tree Classifier and random_state = 10. Subset the train and test data to have only the selected features. This will be used as the training and test data for part  4\n"
   ]
  },
  {
   "cell_type": "code",
   "execution_count": 16,
   "metadata": {},
   "outputs": [],
   "source": [
    "model = DecisionTreeClassifier(random_state=10).fit(X_train, y_train)\n",
    "model.feature_importances_\n",
    "features = pd.Series(model.feature_importances_, index=X.columns)\n",
    "top_2 = features.sort_values(ascending=False).iloc[:2]\n",
    "\n",
    "X_train_2 = pd.DataFrame(X_train, columns=X.columns)\n",
    "X_test_2 = pd.DataFrame(X_test, columns=X.columns)\n",
    "X_train_2 = X_train_2[top_2.index]\n",
    "X_test_2 = X_test_2[top_2.index]\n"
   ]
  },
  {
   "cell_type": "markdown",
   "metadata": {},
   "source": [
    "#### Part 4 (**8 pts**)\n",
    "Fit a logistic regression model with penalty =  𝑙2\n",
    "l\n",
    "2\n",
    " , C = 10 (Ridge Regularization) and random state = 0 for the training data from part  3\n",
    "3\n",
    "  . Plot the decision boundary of the logistic regression model with the two features, as X and Y axis. Here is an example . Plot the scatter points for the test data, on the same graph showing the two classes as two different color.\n",
    "Hint : You can use the below limits for plotting the decision boundary, where  𝑋[:,0]\n",
    "X\n",
    "[\n",
    ":\n",
    ",\n",
    "0\n",
    "]\n",
    "  indicates feature 1 values and  𝑋[:,1]\n",
    "X\n",
    "[\n",
    ":\n",
    ",\n",
    "1\n",
    "]\n",
    "  indicates feature 2 values of the train dataset.\n",
    "𝑥min,𝑥max=𝑋[:,0].𝑚𝑖𝑛()−.5,𝑋[:,0].𝑚𝑎𝑥()+.5\n",
    "x\n",
    "min\n",
    ",\n",
    "x\n",
    "max\n",
    "=\n",
    "X\n",
    "[\n",
    ":\n",
    ",\n",
    "0\n",
    "]\n",
    ".\n",
    "m\n",
    "i\n",
    "n\n",
    "(\n",
    ")\n",
    "−\n",
    ".5\n",
    ",\n",
    "X\n",
    "[\n",
    ":\n",
    ",\n",
    "0\n",
    "]\n",
    ".\n",
    "m\n",
    "a\n",
    "x\n",
    "(\n",
    ")\n",
    "+\n",
    ".5\n",
    " \n",
    "𝑦min,𝑦max=𝑋[:,1].𝑚𝑖𝑛()−.5,𝑋[:,1].𝑚𝑎𝑥()+.5\n",
    "y\n",
    "min\n",
    ",\n",
    "y\n",
    "max\n",
    "=\n",
    "X\n",
    "[\n",
    ":\n",
    ",\n",
    "1\n",
    "]\n",
    ".\n",
    "m\n",
    "i\n",
    "n\n",
    "(\n",
    ")\n",
    "−\n",
    ".5\n",
    ",\n",
    "X\n",
    "[\n",
    ":\n",
    ",\n",
    "1\n",
    "]\n",
    ".\n",
    "m\n",
    "a\n",
    "x\n",
    "(\n",
    ")\n",
    "+\n",
    ".5\n",
    " "
   ]
  },
  {
   "cell_type": "code",
   "execution_count": 17,
   "metadata": {},
   "outputs": [
    {
     "data": {
      "text/plain": [
       "Text(0, 0.5, 'Feature 2 Values')"
      ]
     },
     "execution_count": 17,
     "metadata": {},
     "output_type": "execute_result"
    },
    {
     "data": {
      "image/png": "[encoded data removed]",
      "text/plain": [
       "<Figure size 432x288 with 1 Axes>"
      ]
     },
     "metadata": {
      "needs_background": "light"
     },
     "output_type": "display_data"
    }
   ],
   "source": [
    "from matplotlib import pyplot as plt\n",
    "\n",
    "model = LogisticRegression(penalty='l2', C=10, random_state=10).fit(X_train_2, y_train)\n",
    "pred = model.predict(X_test_2)\n",
    "\n",
    "x_min = X_train_2.iloc[:,[0]].min() - .5\n",
    "x_max = X_train_2.iloc[:, [0]].max() + .5\n",
    "y_min = X_train_2.iloc[:, [1]].min() - .5\n",
    "y_max = X_train_2.iloc[:, [1]].max() + .5\n",
    "\n",
    "h = .02  # step size in the mesh\n",
    "xx, yy = np.meshgrid(np.arange(x_min.values, x_max.values, h), np.arange(y_min.values, y_max.values, h))\n",
    "Z = model.predict(np.c_[xx.ravel(), yy.ravel()])\n",
    "Z = Z.reshape(xx.shape)\n",
    "\n",
    "plt.pcolormesh(xx, yy, Z, cmap=plt.cm.Paired)\n",
    "\n",
    "plt.scatter(X_train_2.iloc[:, 0], X_train_2.iloc[:, 1], c=y_train, edgecolors='k', cmap=plt.cm.Paired)\n",
    "plt.xlabel('Feature 1 Values')\n",
    "plt.ylabel('Feature 2 Values')"
   ]
  },
  {
   "cell_type": "markdown",
   "metadata": {},
   "source": [
    "# Question 4 - Comparison of different ensembles method for classification (25 pts)\n",
    "\n",
    "In this question, we will compare performance of different ensemble methods for classification problems: [Bagging](https://scikit-learn.org/stable/modules/generated/sklearn.ensemble.BaggingClassifier.html), [AdaBoost](https://scikit-learn.org/stable/modules/generated/sklearn.ensemble.AdaBoostClassifier.html), [GradientBoosting](http://scikit-learn.org/stable/modules/generated/sklearn.ensemble.GradientBoostingClassifier.html), and [Random Forest](https://scikit-learn.org/stable/modules/generated/sklearn.ensemble.RandomForestClassifier.html) Classifiers.\n",
    "\n",
    "[Spam Classification Data](https://archive.ics.uci.edu/ml/datasets/Spambase) of UCI will be used (you can use the data provided: 'spam_uci.csv'). Don't worry about column names. The last column represents target label, 1 if spam and zero otherwise.\n",
    "\n",
    "* Load the data and partition it into features (X) and the target label (y) for classification task. Then, use [train_test_split](http://scikit-learn.org/stable/modules/generated/sklearn.model_selection.train_test_split.html) to split data into training and testing: test_size=0.33, random_state=42. \n",
    "\n",
    "\n",
    "\n",
    "**Part 1: (4 pts)** Use a Decision Tree Classifier with random_state = 10 and Logistic Regression with random_state = 10 and solver =\"lbfgs\" for the spam classification problem. Report the accuracy_score and roc_auc_score on the test data for each classifier.\n",
    "\n",
    "\n",
    "**Part 2: (8 pts)** Create an ensemble of 50 classifiers (i.e n_estimators = 50) with random_state = 10 for [bagging](https://scikit-learn.org/stable/modules/generated/sklearn.ensemble.BaggingClassifier.html) with base classifier as Decision Tree Classifier and Logistic Regression from part $1$ . Report accuracy_score and roc_auc_score on the test data for both the Bagging classifiers. Compare the results and breifly explain the effect of using bagging for the spam classification problem for both the Logistic Regression and Decision Tree base classifier.\n",
    "\n",
    "\n",
    "* Now we will look at the effect of other ensemble methods on this problem.\n",
    "\n",
    "\n",
    "**Part 3: (5 pts)** Use a [Random Forest](http://scikit-learn.org/stable/modules/generated/sklearn.ensemble.RandomForestClassifier.html) to classify whether an email is spam. Report your testing accuracy ([accuracy_score](http://scikit-learn.org/stable/modules/generated/sklearn.metrics.accuracy_score.html)) and [roc_auc_score](http://scikit-learn.org/stable/modules/generated/sklearn.metrics.roc_auc_score.html#sklearn.metrics.roc_auc_score). You will need [predict_proba](http://scikit-learn.org/stable/modules/generated/sklearn.ensemble.RandomForestClassifier.html#sklearn.ensemble.RandomForestClassifier.predict_proba) for roc_auc_score. \n",
    "\n",
    "\n",
    "**Part 4: (5 pts)** Use [Gradient Boosting Decision Tree](http://scikit-learn.org/stable/modules/generated/sklearn.ensemble.GradientBoostingClassifier.html) (GBDT), and [AdaBoost](http://scikit-learn.org/stable/modules/generated/sklearn.ensemble.AdaBoostClassifier.html#sklearn.ensemble.AdaBoostClassifier) for the spam classification problem.  Report  accuracy_score and roc_auc_score on the test data for each algorithm. \n",
    "\n",
    "  Note : For part 3 and 4 find the best values for the hyper parameters of each of the models by using GridSearchCV. \n",
    "\n",
    "\n",
    "**Part 5: (3 pts)** Briefly explain which of the three ensemble method above from Part 3&4 performed the best and why?\n"
   ]
  },
  {
   "cell_type": "markdown",
   "metadata": {},
   "source": [
    "# Solution"
   ]
  },
  {
   "cell_type": "markdown",
   "metadata": {},
   "source": [
    "#### Loading and pre-processing dataset"
   ]
  },
  {
   "cell_type": "code",
   "execution_count": 18,
   "metadata": {},
   "outputs": [],
   "source": [
    "spam = pd.read_csv('spam_uci.csv', index_col=0)\n",
    "y = spam.iloc[:, -1:]\n",
    "X = spam.iloc[:, :-1]\n",
    "\n",
    "X_train, X_test, y_train, y_test = train_test_split(X, y, test_size = 0.33, random_state = 42)"
   ]
  },
  {
   "cell_type": "markdown",
   "metadata": {},
   "source": [
    "#### Part 1 (**4 pts**)"
   ]
  },
  {
   "cell_type": "code",
   "execution_count": 19,
   "metadata": {},
   "outputs": [
    {
     "name": "stdout",
     "output_type": "stream",
     "text": [
      "Tree accuracy is: 0.9117840684660962\n",
      "Tree ROC score is: 0.9085903594264297\n",
      "\n",
      "Log Reg accuracy is: 0.923633969716919\n",
      "Log Reg ROC score is: 0.9205528156080722\n"
     ]
    }
   ],
   "source": [
    "from sklearn.metrics import roc_auc_score\n",
    "\n",
    "tree = DecisionTreeClassifier(random_state = 10).fit(X_train, y_train)\n",
    "logreg = LogisticRegression(random_state = 10, solver='lbfgs').fit(X_train, y_train)\n",
    "\n",
    "tree_pred = tree.predict(X_test)\n",
    "logreg_pred = logreg.predict(X_test)\n",
    "\n",
    "tree_acc = accuracy_score(y_test, tree_pred)\n",
    "logreg_acc = accuracy_score(y_test, logreg_pred)\n",
    "\n",
    "tree_roc = roc_auc_score(y_test, tree_pred)\n",
    "logreg_roc = roc_auc_score(y_test, logreg_pred)\n",
    "\n",
    "print('Tree accuracy is: {}'.format(tree_acc))\n",
    "print('Tree ROC score is: {}\\n'.format(tree_roc))\n",
    "print('Log Reg accuracy is: {}'.format(logreg_acc))\n",
    "print('Log Reg ROC score is: {}'.format(logreg_roc))"
   ]
  },
  {
   "cell_type": "markdown",
   "metadata": {},
   "source": [
    "#### Part 2 (**8 pts**)\n",
    "Create an ensemble of 50 classifiers (i.e n_estimators = 50) with random_state = 10 for bagging with base classifier as Decision Tree Classifier and Logistic Regression from part  1\n",
    "1\n",
    "  . Report accuracy_score and roc_auc_score on the test data for both the Bagging classifiers. Compare the results and breifly explain the effect of using bagging for the spam classification problem for both the Logistic Regression and Decision Tree base classifier."
   ]
  },
  {
   "cell_type": "code",
   "execution_count": 20,
   "metadata": {},
   "outputs": [
    {
     "name": "stdout",
     "output_type": "stream",
     "text": [
      "Tree accuracy is: 0.9447004608294931\n",
      "Tree ROC score is: 0.9415437256391329\n",
      "\n",
      "Log Reg accuracy is: 0.9262672811059908\n",
      "Log Reg ROC score is: 0.9234868179402964\n"
     ]
    }
   ],
   "source": [
    "from sklearn.ensemble import BaggingClassifier\n",
    "\n",
    "BCTree = BaggingClassifier(base_estimator=DecisionTreeClassifier(), n_estimators = 50, random_state = 10).fit(X_train, y_train)\n",
    "BCLogReg = BaggingClassifier(base_estimator=LogisticRegression(), n_estimators = 50, random_state = 10).fit(X_train, y_train)\n",
    "\n",
    "BCTree_pred = BCTree.predict(X_test)\n",
    "BCLogReg_pred = BCLogReg.predict(X_test)\n",
    "\n",
    "Tree_acc = accuracy_score(y_test, BCTree_pred)\n",
    "LogReg_acc = accuracy_score(y_test, BCLogReg_pred)\n",
    "\n",
    "tree_roc = roc_auc_score(y_test, BCTree_pred)\n",
    "logreg_roc = roc_auc_score(y_test, BCLogReg_pred)\n",
    "\n",
    "print('Tree accuracy is: {}'.format(Tree_acc))\n",
    "print('Tree ROC score is: {}\\n'.format(tree_roc))\n",
    "print('Log Reg accuracy is: {}'.format(LogReg_acc))\n",
    "print('Log Reg ROC score is: {}'.format(logreg_roc))"
   ]
  },
  {
   "cell_type": "markdown",
   "metadata": {},
   "source": [
    "#### Part 3 (**5 pts**)\n",
    "Use a Random Forest to classify whether an email is spam. Report your testing accuracy (accuracy_score) and roc_auc_score. You will need predict_proba for roc_auc_score."
   ]
  },
  {
   "cell_type": "code",
   "execution_count": 21,
   "metadata": {},
   "outputs": [
    {
     "name": "stdout",
     "output_type": "stream",
     "text": [
      "Random Forest accuracy is: 0.9585253456221198\n",
      "Random Forest ROC score is: 0.9892785438932454\n",
      "{'criterion': 'entropy', 'max_depth': 20, 'n_estimators': 200}\n"
     ]
    }
   ],
   "source": [
    "from sklearn.ensemble import RandomForestClassifier\n",
    "from sklearn.model_selection import GridSearchCV\n",
    "\n",
    "params = {'n_estimators': [10,30,100,200], 'criterion':('gini', 'entropy'), 'max_depth':[5,10,15,20]}\n",
    "model = RandomForestClassifier(random_state=10)\n",
    "grid = GridSearchCV(model, params).fit(X_train, y_train)\n",
    "\n",
    "\n",
    "pred = grid.predict(X_test)\n",
    "\n",
    "acc = accuracy_score(y_test, pred)\n",
    "probs = grid.predict_proba(X_test)\n",
    "\n",
    "#print(probs, y_test)\n",
    "roc = roc_auc_score(y_test, probs[:,1])\n",
    "print('Random Forest accuracy is: {}'.format(acc))\n",
    "print('Random Forest ROC score is: {}'.format(roc))\n",
    "print(grid.best_params_)"
   ]
  },
  {
   "cell_type": "markdown",
   "metadata": {},
   "source": [
    "#### Part 4 (**5 pts**)\n",
    "Use Gradient Boosting Decision Tree (GBDT), and AdaBoost for the spam classification problem. Report accuracy_score and roc_auc_score on the test data for each algorithm."
   ]
  },
  {
   "cell_type": "code",
   "execution_count": 25,
   "metadata": {},
   "outputs": [
    {
     "name": "stdout",
     "output_type": "stream",
     "text": [
      "Gradient Boosted accuracy is: 0.9486504279131007\n",
      "Gradient Boosted ROC score is: 0.9778474354448166\n",
      "Gradient Boosted learning rate is 0.6131836734693878\n",
      "Gradient Boosted n_estimators is 200\n"
     ]
    }
   ],
   "source": [
    "from sklearn.ensemble import GradientBoostingClassifier, AdaBoostClassifier\n",
    "\n",
    "params = {'learning_rate': np.linspace(.001, 10, 50), 'n_estimators': [10,30,100,200]}\n",
    "model = GradientBoostingClassifier(random_state=10)\n",
    "grid = GridSearchCV(model, params).fit(X_train, y_train)\n",
    "\n",
    "pred = grid.predict(X_test)\n",
    "probs = grid.predict_proba(X_test)\n",
    "\n",
    "acc = accuracy_score(y_test, pred)\n",
    "auc = roc_auc_score(y_test, probs[:,1])\n",
    "\n",
    "print('Gradient Boosted accuracy is: {}'.format(acc))\n",
    "print('Gradient Boosted ROC score is: {}'.format(auc))\n",
    "print('Gradient Boosted learning rate is {}'.format(grid.best_params_['learning_rate']))\n",
    "print('Gradient Boosted n_estimators is {}'.format(grid.best_params_['n_estimators']))"
   ]
  },
  {
   "cell_type": "code",
   "execution_count": 24,
   "metadata": {},
   "outputs": [
    {
     "name": "stdout",
     "output_type": "stream",
     "text": [
      "AdaBoost accuracy is: 0.9466754443712969\n",
      "AdaBoost ROC score is: 0.9860066543279877\n",
      "AdaBoost learning rate is 0.20506122448979594\n",
      "AdaBoost n_estimators is 200\n"
     ]
    }
   ],
   "source": [
    "params = {'learning_rate': np.linspace(.001, 10, 50), 'n_estimators': [10,30,100,200]}\n",
    "model = AdaBoostClassifier(random_state=10)\n",
    "grid = GridSearchCV(model, params).fit(X_train, y_train)\n",
    "\n",
    "pred = grid.predict(X_test)\n",
    "probs = grid.predict_proba(X_test)\n",
    "\n",
    "acc = accuracy_score(y_test, pred)\n",
    "auc = roc_auc_score(y_test, probs[:,1])\n",
    "\n",
    "print('AdaBoost accuracy is: {}'.format(acc))\n",
    "print('AdaBoost ROC score is: {}'.format(auc))\n",
    "print('AdaBoost learning rate is {}'.format(grid.best_params_['learning_rate']))\n",
    "print('AdaBoost n_estimators is {}'.format(grid.best_params_['n_estimators']))"
   ]
  },
  {
   "cell_type": "markdown",
   "metadata": {},
   "source": [
    "#### Part 5 (**3 pts**)"
   ]
  },
  {
   "cell_type": "markdown",
   "metadata": {},
   "source": [
    "The best model from parts 3 and 4 was the Random Forest ensemble model. The high variance per tree, when combined together, smoothed out the volatility and provided strong prediction accuracy. "
   ]
  },
  {
   "cell_type": "markdown",
   "metadata": {},
   "source": [
    "\n",
    "# Question 5 (Bonus): Segmenting Customers for Predicting Loan Repayment (40 points)\n",
    "\n",
    "Download dataset from [this link](https://drive.google.com/file/d/1U6FDSQQSUzvw3Ygtgp8I5ea0-dL-orSE/view?usp=sharing).\n",
    "\n",
    "In this question, we will look at a technique to segment customers using SHAP (SHapley Additive exPlanations). Please read this article to learn about SHAP - https://christophm.github.io/interpretable-ml-book/shap.html.\n",
    "\n",
    "SHAP values provide an explanation for each observation in terms of feature attribution (which features were most influential in determining the predicted value for that observation).\n",
    "\n",
    "For some applications, that may be too fine a resolution, and one would rather identify subsets of observations (called segments or clusters) for which the “explanations are similar”, Moreover, it helps if subsets are also “understandable”, i.e. easy to describe in terms of the feature values. Then the subsets become “actionable”, as one can design specific interventions (e.g. targeted marketing messages) for each subset.\n",
    "\n",
    "The goal of this problem is to identify such segments, and see if the variation of SHAP values within each segment is indeed lower than the variation in the total population. We will proceed as follows:\n",
    "\n",
    "1. First, we will fit an XGBoost model to perform the classification task.\n",
    "2. We will then use the shap.TreeExplainer which uses Tree SHAP algorithms and estimate the SHAP values for each observation.\n",
    "3. Our objective is to segment customers into groups which have low variance in the SHAP values - these represent segments of similar customers in the “feature attribution based explanation” space. We will do this as follows:  \n",
    "\n",
    "    a. Cluster the SHAP values using KMeans clustering. You pick K, perhaps somewhere between 10 and 20.  \n",
    "    b. Build a decision tree with the Cluster numbers as the labels. Specify the number of leaves to be in the range of [K, 2K].  Due to the choice of the surrogate class labels provided by the clustering, the   leaves of the decision tree will be encouraged to have similar SHAP values. Moreover, since you are learning a decision tree, these leaves are also simple to describe as rules. A good solution will be indicated if  for each of these leaves,  the variance of SHAP values of observations mapped to that leaf will be lower than the  overall variance.  \n"
   ]
  },
  {
   "cell_type": "code",
   "execution_count": 29,
   "metadata": {},
   "outputs": [],
   "source": [
    "#LOADING DATA -  DONOT CHANGE\n",
    "import re\n",
    "import pandas as pd\n",
    "import numpy as np\n",
    "import shap\n",
    "import time\n",
    "import xgboost\n",
    "import sklearn\n",
    "from sklearn.tree import DecisionTreeClassifier\n",
    "from sklearn.model_selection import train_test_split\n",
    "from sklearn.metrics import roc_auc_score\n",
    "import os, sys, re\n",
    "import time\n",
    "import numpy as np\n",
    "import pandas as pd\n",
    "from sklearn.model_selection import train_test_split\n",
    "\n",
    "# Load the csv file and fill Nan/empty values as 0\n",
    "dataset = pd.read_csv('loan.csv')\n",
    "df = dataset.fillna(0)\n",
    "\n",
    "# We will be using only two classes and group them as below\n",
    "def LoanResult(status):\n",
    "    if (status == 'Fully Paid') or (status == 'Current'):\n",
    "        return 1\n",
    "    else:\n",
    "        return 0\n",
    "\n",
    "df['loan_status'] = df['loan_status'].apply(LoanResult)\n",
    "\n",
    "# Set of features which indicate the dimensionality of the data\n",
    "df = df[['loan_amnt', 'funded_amnt', 'funded_amnt_inv', 'term', 'int_rate', 'installment', 'grade', 'sub_grade',\n",
    "             'emp_length', 'home_ownership','annual_inc', 'verification_status', 'loan_status',\n",
    "             'purpose','addr_state', 'dti','open_acc', 'pub_rec', 'revol_bal', 'revol_util', \n",
    "             'initial_list_status', 'recoveries','collection_recovery_fee', 'last_pymnt_d', 'last_pymnt_amnt',\n",
    "             'application_type', 'tot_coll_amt', 'tot_cur_bal', 'avg_cur_bal', 'chargeoff_within_12_mths',\n",
    "             'pub_rec_bankruptcies', 'tax_liens', 'debt_settlement_flag']]\n",
    "\n",
    "#For simplicity, in this question, we select all columns that do not contain integer of float type of data. Then, one hot encoding is performed.\n",
    "df_cat = df.select_dtypes(exclude=['int64', 'float64'])\n",
    "df = pd.get_dummies(df, df_cat.columns.values)\n",
    "\n",
    "\n",
    "X = df\n",
    "regex = re.compile(r\"\\[|\\]|<\", re.IGNORECASE)\n",
    "df.columns = [regex.sub(\"_\", col) if any(x in str(col) for x in set(('[', ']', '<'))) else col for col in df.columns.values]\n",
    "\n",
    "X = X.drop(['loan_status'], axis=1)\n",
    "Y = df['loan_status']\n",
    "\n",
    "X_train_val, X_test, y_train_val, y_test = train_test_split(X, Y, test_size=0.25, shuffle=True, random_state=42)\n",
    "X_train, X_val, y_train, y_val = train_test_split(X_train_val, y_train_val, test_size=0.25, shuffle=True, random_state=42)"
   ]
  },
  {
   "cell_type": "markdown",
   "metadata": {},
   "source": [
    "### 5.1. Fit an XGBoost model on the train data and report the ROCAUC on the test set. (5pts)\n",
    "### 5.2. Compute the SHAP values using the [TreeExplainer](https://shap.readthedocs.io/en/latest/generated/shap.TreeExplainer.html) and plot the [summary plot](https://shap.readthedocs.io/en/latest/generated/shap.summary_plot.html). Explain what the summary plot represents.(5 pts)\n",
    "### 5.3. Perform KMeans clustering on the SHAP values inot $k$ clusters. Then, train a decision tree (with maximum depth $d$) to predict the cluster number obtained through KMeans -  the cluster numbers as the target. Visualize the decison tree (5 pts). Plot the variance of the SHAP values of the samples in each of the leaves - show that all these varinces is less than the overall variance of the SHAP values. The main parameters to tune here are the number of cluster $k$ and the maximum depth $d$. **(30 pts)**"
   ]
  },
  {
   "cell_type": "code",
   "execution_count": 50,
   "metadata": {},
   "outputs": [
    {
     "name": "stdout",
     "output_type": "stream",
     "text": [
      "The ROC_AUC is: 0.9475369714235595\n"
     ]
    }
   ],
   "source": [
    "dtrain = xgboost.DMatrix(X_train_val, label = y_train_val)\n",
    "dtest = xgboost.DMatrix(X_test)\n",
    "\n",
    "params = {'booster':'gbtree', 'eta':0.1}\n",
    "num_rounds = 3\n",
    "\n",
    "boost = xgboost.train(params, dtrain, num_rounds)\n",
    "pred = boost.predict(dtest)\n",
    "\n",
    "print('The ROC_AUC is: {}'.format(roc_auc_score(y_test, pred)))"
   ]
  },
  {
   "cell_type": "code",
   "execution_count": null,
   "metadata": {},
   "outputs": [],
   "source": []
  }
 ],
 "metadata": {
  "kernelspec": {
   "display_name": "Python 3",
   "language": "python",
   "name": "python3"
  },
  "language_info": {
   "codemirror_mode": {
    "name": "ipython",
    "version": 3
   },
   "file_extension": ".py",
   "mimetype": "text/x-python",
   "name": "python",
   "nbconvert_exporter": "python",
   "pygments_lexer": "ipython3",
   "version": "3.7.3"
  }
 },
 "nbformat": 4,
 "nbformat_minor": 4
}
